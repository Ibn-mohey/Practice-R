{
 "cells": [
  {
   "cell_type": "code",
   "execution_count": 1,
   "metadata": {},
   "outputs": [],
   "source": [
    "NEI <- readRDS(\"summarySCC_PM25.rds\")\n",
    "SCC <- readRDS(\"Source_Classification_Code.rds\")"
   ]
  },
  {
   "cell_type": "code",
   "execution_count": 2,
   "metadata": {},
   "outputs": [
    {
     "data": {
      "text/html": [
       "<table>\n",
       "<caption>A data.frame: 6 × 6</caption>\n",
       "<thead>\n",
       "\t<tr><th></th><th scope=col>fips</th><th scope=col>SCC</th><th scope=col>Pollutant</th><th scope=col>Emissions</th><th scope=col>type</th><th scope=col>year</th></tr>\n",
       "\t<tr><th></th><th scope=col>&lt;chr&gt;</th><th scope=col>&lt;chr&gt;</th><th scope=col>&lt;chr&gt;</th><th scope=col>&lt;dbl&gt;</th><th scope=col>&lt;chr&gt;</th><th scope=col>&lt;int&gt;</th></tr>\n",
       "</thead>\n",
       "<tbody>\n",
       "\t<tr><th scope=row>4</th><td>09001</td><td>10100401</td><td>PM25-PRI</td><td> 15.714</td><td>POINT</td><td>1999</td></tr>\n",
       "\t<tr><th scope=row>8</th><td>09001</td><td>10100404</td><td>PM25-PRI</td><td>234.178</td><td>POINT</td><td>1999</td></tr>\n",
       "\t<tr><th scope=row>12</th><td>09001</td><td>10100501</td><td>PM25-PRI</td><td>  0.128</td><td>POINT</td><td>1999</td></tr>\n",
       "\t<tr><th scope=row>16</th><td>09001</td><td>10200401</td><td>PM25-PRI</td><td>  2.036</td><td>POINT</td><td>1999</td></tr>\n",
       "\t<tr><th scope=row>20</th><td>09001</td><td>10200504</td><td>PM25-PRI</td><td>  0.388</td><td>POINT</td><td>1999</td></tr>\n",
       "\t<tr><th scope=row>24</th><td>09001</td><td>10200602</td><td>PM25-PRI</td><td>  1.490</td><td>POINT</td><td>1999</td></tr>\n",
       "</tbody>\n",
       "</table>\n"
      ],
      "text/latex": [
       "A data.frame: 6 × 6\n",
       "\\begin{tabular}{r|llllll}\n",
       "  & fips & SCC & Pollutant & Emissions & type & year\\\\\n",
       "  & <chr> & <chr> & <chr> & <dbl> & <chr> & <int>\\\\\n",
       "\\hline\n",
       "\t4 & 09001 & 10100401 & PM25-PRI &  15.714 & POINT & 1999\\\\\n",
       "\t8 & 09001 & 10100404 & PM25-PRI & 234.178 & POINT & 1999\\\\\n",
       "\t12 & 09001 & 10100501 & PM25-PRI &   0.128 & POINT & 1999\\\\\n",
       "\t16 & 09001 & 10200401 & PM25-PRI &   2.036 & POINT & 1999\\\\\n",
       "\t20 & 09001 & 10200504 & PM25-PRI &   0.388 & POINT & 1999\\\\\n",
       "\t24 & 09001 & 10200602 & PM25-PRI &   1.490 & POINT & 1999\\\\\n",
       "\\end{tabular}\n"
      ],
      "text/markdown": [
       "\n",
       "A data.frame: 6 × 6\n",
       "\n",
       "| <!--/--> | fips &lt;chr&gt; | SCC &lt;chr&gt; | Pollutant &lt;chr&gt; | Emissions &lt;dbl&gt; | type &lt;chr&gt; | year &lt;int&gt; |\n",
       "|---|---|---|---|---|---|---|\n",
       "| 4 | 09001 | 10100401 | PM25-PRI |  15.714 | POINT | 1999 |\n",
       "| 8 | 09001 | 10100404 | PM25-PRI | 234.178 | POINT | 1999 |\n",
       "| 12 | 09001 | 10100501 | PM25-PRI |   0.128 | POINT | 1999 |\n",
       "| 16 | 09001 | 10200401 | PM25-PRI |   2.036 | POINT | 1999 |\n",
       "| 20 | 09001 | 10200504 | PM25-PRI |   0.388 | POINT | 1999 |\n",
       "| 24 | 09001 | 10200602 | PM25-PRI |   1.490 | POINT | 1999 |\n",
       "\n"
      ],
      "text/plain": [
       "   fips  SCC      Pollutant Emissions type  year\n",
       "4  09001 10100401 PM25-PRI   15.714   POINT 1999\n",
       "8  09001 10100404 PM25-PRI  234.178   POINT 1999\n",
       "12 09001 10100501 PM25-PRI    0.128   POINT 1999\n",
       "16 09001 10200401 PM25-PRI    2.036   POINT 1999\n",
       "20 09001 10200504 PM25-PRI    0.388   POINT 1999\n",
       "24 09001 10200602 PM25-PRI    1.490   POINT 1999"
      ]
     },
     "metadata": {},
     "output_type": "display_data"
    }
   ],
   "source": [
    "head(NEI)"
   ]
  },
  {
   "cell_type": "code",
   "execution_count": 3,
   "metadata": {
    "scrolled": true
   },
   "outputs": [
    {
     "data": {
      "text/html": [
       "<table>\n",
       "<caption>A data.frame: 6 × 15</caption>\n",
       "<thead>\n",
       "\t<tr><th></th><th scope=col>SCC</th><th scope=col>Data.Category</th><th scope=col>Short.Name</th><th scope=col>EI.Sector</th><th scope=col>Option.Group</th><th scope=col>Option.Set</th><th scope=col>SCC.Level.One</th><th scope=col>SCC.Level.Two</th><th scope=col>SCC.Level.Three</th><th scope=col>SCC.Level.Four</th><th scope=col>Map.To</th><th scope=col>Last.Inventory.Year</th><th scope=col>Created_Date</th><th scope=col>Revised_Date</th><th scope=col>Usage.Notes</th></tr>\n",
       "\t<tr><th></th><th scope=col>&lt;fct&gt;</th><th scope=col>&lt;fct&gt;</th><th scope=col>&lt;fct&gt;</th><th scope=col>&lt;fct&gt;</th><th scope=col>&lt;fct&gt;</th><th scope=col>&lt;fct&gt;</th><th scope=col>&lt;fct&gt;</th><th scope=col>&lt;fct&gt;</th><th scope=col>&lt;fct&gt;</th><th scope=col>&lt;fct&gt;</th><th scope=col>&lt;dbl&gt;</th><th scope=col>&lt;int&gt;</th><th scope=col>&lt;fct&gt;</th><th scope=col>&lt;fct&gt;</th><th scope=col>&lt;fct&gt;</th></tr>\n",
       "</thead>\n",
       "<tbody>\n",
       "\t<tr><th scope=row>1</th><td>10100101</td><td>Point</td><td>Ext Comb /Electric Gen /Anthracite Coal /Pulverized Coal                  </td><td>Fuel Comb - Electric Generation - Coal</td><td></td><td></td><td>External Combustion Boilers</td><td>Electric Generation</td><td>Anthracite Coal              </td><td>Pulverized Coal                              </td><td>NA</td><td>NA</td><td></td><td></td><td></td></tr>\n",
       "\t<tr><th scope=row>2</th><td>10100102</td><td>Point</td><td>Ext Comb /Electric Gen /Anthracite Coal /Traveling Grate (Overfeed) Stoker</td><td>Fuel Comb - Electric Generation - Coal</td><td></td><td></td><td>External Combustion Boilers</td><td>Electric Generation</td><td>Anthracite Coal              </td><td>Traveling Grate (Overfeed) Stoker            </td><td>NA</td><td>NA</td><td></td><td></td><td></td></tr>\n",
       "\t<tr><th scope=row>3</th><td>10100201</td><td>Point</td><td>Ext Comb /Electric Gen /Bituminous Coal /Pulverized Coal: Wet Bottom      </td><td>Fuel Comb - Electric Generation - Coal</td><td></td><td></td><td>External Combustion Boilers</td><td>Electric Generation</td><td>Bituminous/Subbituminous Coal</td><td>Pulverized Coal: Wet Bottom (Bituminous Coal)</td><td>NA</td><td>NA</td><td></td><td></td><td></td></tr>\n",
       "\t<tr><th scope=row>4</th><td>10100202</td><td>Point</td><td>Ext Comb /Electric Gen /Bituminous Coal /Pulverized Coal: Dry Bottom      </td><td>Fuel Comb - Electric Generation - Coal</td><td></td><td></td><td>External Combustion Boilers</td><td>Electric Generation</td><td>Bituminous/Subbituminous Coal</td><td>Pulverized Coal: Dry Bottom (Bituminous Coal)</td><td>NA</td><td>NA</td><td></td><td></td><td></td></tr>\n",
       "\t<tr><th scope=row>5</th><td>10100203</td><td>Point</td><td>Ext Comb /Electric Gen /Bituminous Coal /Cyclone Furnace                  </td><td>Fuel Comb - Electric Generation - Coal</td><td></td><td></td><td>External Combustion Boilers</td><td>Electric Generation</td><td>Bituminous/Subbituminous Coal</td><td>Cyclone Furnace (Bituminous Coal)            </td><td>NA</td><td>NA</td><td></td><td></td><td></td></tr>\n",
       "\t<tr><th scope=row>6</th><td>10100204</td><td>Point</td><td>Ext Comb /Electric Gen /Bituminous Coal /Spreader Stoker                  </td><td>Fuel Comb - Electric Generation - Coal</td><td></td><td></td><td>External Combustion Boilers</td><td>Electric Generation</td><td>Bituminous/Subbituminous Coal</td><td>Spreader Stoker (Bituminous Coal)            </td><td>NA</td><td>NA</td><td></td><td></td><td></td></tr>\n",
       "</tbody>\n",
       "</table>\n"
      ],
      "text/latex": [
       "A data.frame: 6 × 15\n",
       "\\begin{tabular}{r|lllllllllllllll}\n",
       "  & SCC & Data.Category & Short.Name & EI.Sector & Option.Group & Option.Set & SCC.Level.One & SCC.Level.Two & SCC.Level.Three & SCC.Level.Four & Map.To & Last.Inventory.Year & Created\\_Date & Revised\\_Date & Usage.Notes\\\\\n",
       "  & <fct> & <fct> & <fct> & <fct> & <fct> & <fct> & <fct> & <fct> & <fct> & <fct> & <dbl> & <int> & <fct> & <fct> & <fct>\\\\\n",
       "\\hline\n",
       "\t1 & 10100101 & Point & Ext Comb /Electric Gen /Anthracite Coal /Pulverized Coal                   & Fuel Comb - Electric Generation - Coal &  &  & External Combustion Boilers & Electric Generation & Anthracite Coal               & Pulverized Coal                               & NA & NA &  &  & \\\\\n",
       "\t2 & 10100102 & Point & Ext Comb /Electric Gen /Anthracite Coal /Traveling Grate (Overfeed) Stoker & Fuel Comb - Electric Generation - Coal &  &  & External Combustion Boilers & Electric Generation & Anthracite Coal               & Traveling Grate (Overfeed) Stoker             & NA & NA &  &  & \\\\\n",
       "\t3 & 10100201 & Point & Ext Comb /Electric Gen /Bituminous Coal /Pulverized Coal: Wet Bottom       & Fuel Comb - Electric Generation - Coal &  &  & External Combustion Boilers & Electric Generation & Bituminous/Subbituminous Coal & Pulverized Coal: Wet Bottom (Bituminous Coal) & NA & NA &  &  & \\\\\n",
       "\t4 & 10100202 & Point & Ext Comb /Electric Gen /Bituminous Coal /Pulverized Coal: Dry Bottom       & Fuel Comb - Electric Generation - Coal &  &  & External Combustion Boilers & Electric Generation & Bituminous/Subbituminous Coal & Pulverized Coal: Dry Bottom (Bituminous Coal) & NA & NA &  &  & \\\\\n",
       "\t5 & 10100203 & Point & Ext Comb /Electric Gen /Bituminous Coal /Cyclone Furnace                   & Fuel Comb - Electric Generation - Coal &  &  & External Combustion Boilers & Electric Generation & Bituminous/Subbituminous Coal & Cyclone Furnace (Bituminous Coal)             & NA & NA &  &  & \\\\\n",
       "\t6 & 10100204 & Point & Ext Comb /Electric Gen /Bituminous Coal /Spreader Stoker                   & Fuel Comb - Electric Generation - Coal &  &  & External Combustion Boilers & Electric Generation & Bituminous/Subbituminous Coal & Spreader Stoker (Bituminous Coal)             & NA & NA &  &  & \\\\\n",
       "\\end{tabular}\n"
      ],
      "text/markdown": [
       "\n",
       "A data.frame: 6 × 15\n",
       "\n",
       "| <!--/--> | SCC &lt;fct&gt; | Data.Category &lt;fct&gt; | Short.Name &lt;fct&gt; | EI.Sector &lt;fct&gt; | Option.Group &lt;fct&gt; | Option.Set &lt;fct&gt; | SCC.Level.One &lt;fct&gt; | SCC.Level.Two &lt;fct&gt; | SCC.Level.Three &lt;fct&gt; | SCC.Level.Four &lt;fct&gt; | Map.To &lt;dbl&gt; | Last.Inventory.Year &lt;int&gt; | Created_Date &lt;fct&gt; | Revised_Date &lt;fct&gt; | Usage.Notes &lt;fct&gt; |\n",
       "|---|---|---|---|---|---|---|---|---|---|---|---|---|---|---|---|\n",
       "| 1 | 10100101 | Point | Ext Comb /Electric Gen /Anthracite Coal /Pulverized Coal                   | Fuel Comb - Electric Generation - Coal | <!----> | <!----> | External Combustion Boilers | Electric Generation | Anthracite Coal               | Pulverized Coal                               | NA | NA | <!----> | <!----> | <!----> |\n",
       "| 2 | 10100102 | Point | Ext Comb /Electric Gen /Anthracite Coal /Traveling Grate (Overfeed) Stoker | Fuel Comb - Electric Generation - Coal | <!----> | <!----> | External Combustion Boilers | Electric Generation | Anthracite Coal               | Traveling Grate (Overfeed) Stoker             | NA | NA | <!----> | <!----> | <!----> |\n",
       "| 3 | 10100201 | Point | Ext Comb /Electric Gen /Bituminous Coal /Pulverized Coal: Wet Bottom       | Fuel Comb - Electric Generation - Coal | <!----> | <!----> | External Combustion Boilers | Electric Generation | Bituminous/Subbituminous Coal | Pulverized Coal: Wet Bottom (Bituminous Coal) | NA | NA | <!----> | <!----> | <!----> |\n",
       "| 4 | 10100202 | Point | Ext Comb /Electric Gen /Bituminous Coal /Pulverized Coal: Dry Bottom       | Fuel Comb - Electric Generation - Coal | <!----> | <!----> | External Combustion Boilers | Electric Generation | Bituminous/Subbituminous Coal | Pulverized Coal: Dry Bottom (Bituminous Coal) | NA | NA | <!----> | <!----> | <!----> |\n",
       "| 5 | 10100203 | Point | Ext Comb /Electric Gen /Bituminous Coal /Cyclone Furnace                   | Fuel Comb - Electric Generation - Coal | <!----> | <!----> | External Combustion Boilers | Electric Generation | Bituminous/Subbituminous Coal | Cyclone Furnace (Bituminous Coal)             | NA | NA | <!----> | <!----> | <!----> |\n",
       "| 6 | 10100204 | Point | Ext Comb /Electric Gen /Bituminous Coal /Spreader Stoker                   | Fuel Comb - Electric Generation - Coal | <!----> | <!----> | External Combustion Boilers | Electric Generation | Bituminous/Subbituminous Coal | Spreader Stoker (Bituminous Coal)             | NA | NA | <!----> | <!----> | <!----> |\n",
       "\n"
      ],
      "text/plain": [
       "  SCC      Data.Category\n",
       "1 10100101 Point        \n",
       "2 10100102 Point        \n",
       "3 10100201 Point        \n",
       "4 10100202 Point        \n",
       "5 10100203 Point        \n",
       "6 10100204 Point        \n",
       "  Short.Name                                                                \n",
       "1 Ext Comb /Electric Gen /Anthracite Coal /Pulverized Coal                  \n",
       "2 Ext Comb /Electric Gen /Anthracite Coal /Traveling Grate (Overfeed) Stoker\n",
       "3 Ext Comb /Electric Gen /Bituminous Coal /Pulverized Coal: Wet Bottom      \n",
       "4 Ext Comb /Electric Gen /Bituminous Coal /Pulverized Coal: Dry Bottom      \n",
       "5 Ext Comb /Electric Gen /Bituminous Coal /Cyclone Furnace                  \n",
       "6 Ext Comb /Electric Gen /Bituminous Coal /Spreader Stoker                  \n",
       "  EI.Sector                              Option.Group Option.Set\n",
       "1 Fuel Comb - Electric Generation - Coal                        \n",
       "2 Fuel Comb - Electric Generation - Coal                        \n",
       "3 Fuel Comb - Electric Generation - Coal                        \n",
       "4 Fuel Comb - Electric Generation - Coal                        \n",
       "5 Fuel Comb - Electric Generation - Coal                        \n",
       "6 Fuel Comb - Electric Generation - Coal                        \n",
       "  SCC.Level.One               SCC.Level.Two       SCC.Level.Three              \n",
       "1 External Combustion Boilers Electric Generation Anthracite Coal              \n",
       "2 External Combustion Boilers Electric Generation Anthracite Coal              \n",
       "3 External Combustion Boilers Electric Generation Bituminous/Subbituminous Coal\n",
       "4 External Combustion Boilers Electric Generation Bituminous/Subbituminous Coal\n",
       "5 External Combustion Boilers Electric Generation Bituminous/Subbituminous Coal\n",
       "6 External Combustion Boilers Electric Generation Bituminous/Subbituminous Coal\n",
       "  SCC.Level.Four                                Map.To Last.Inventory.Year\n",
       "1 Pulverized Coal                               NA     NA                 \n",
       "2 Traveling Grate (Overfeed) Stoker             NA     NA                 \n",
       "3 Pulverized Coal: Wet Bottom (Bituminous Coal) NA     NA                 \n",
       "4 Pulverized Coal: Dry Bottom (Bituminous Coal) NA     NA                 \n",
       "5 Cyclone Furnace (Bituminous Coal)             NA     NA                 \n",
       "6 Spreader Stoker (Bituminous Coal)             NA     NA                 \n",
       "  Created_Date Revised_Date Usage.Notes\n",
       "1                                      \n",
       "2                                      \n",
       "3                                      \n",
       "4                                      \n",
       "5                                      \n",
       "6                                      "
      ]
     },
     "metadata": {},
     "output_type": "display_data"
    }
   ],
   "source": [
    "head(SCC)"
   ]
  },
  {
   "cell_type": "code",
   "execution_count": 4,
   "metadata": {
    "scrolled": true
   },
   "outputs": [
    {
     "data": {
      "text/html": [
       "<style>\n",
       ".list-inline {list-style: none; margin:0; padding: 0}\n",
       ".list-inline>li {display: inline-block}\n",
       ".list-inline>li:not(:last-child)::after {content: \"\\00b7\"; padding: 0 .5ex}\n",
       "</style>\n",
       "<ol class=list-inline><li>'SCC'</li><li>'Data.Category'</li><li>'Short.Name'</li><li>'EI.Sector'</li><li>'Option.Group'</li><li>'Option.Set'</li><li>'SCC.Level.One'</li><li>'SCC.Level.Two'</li><li>'SCC.Level.Three'</li><li>'SCC.Level.Four'</li><li>'Map.To'</li><li>'Last.Inventory.Year'</li><li>'Created_Date'</li><li>'Revised_Date'</li><li>'Usage.Notes'</li></ol>\n"
      ],
      "text/latex": [
       "\\begin{enumerate*}\n",
       "\\item 'SCC'\n",
       "\\item 'Data.Category'\n",
       "\\item 'Short.Name'\n",
       "\\item 'EI.Sector'\n",
       "\\item 'Option.Group'\n",
       "\\item 'Option.Set'\n",
       "\\item 'SCC.Level.One'\n",
       "\\item 'SCC.Level.Two'\n",
       "\\item 'SCC.Level.Three'\n",
       "\\item 'SCC.Level.Four'\n",
       "\\item 'Map.To'\n",
       "\\item 'Last.Inventory.Year'\n",
       "\\item 'Created\\_Date'\n",
       "\\item 'Revised\\_Date'\n",
       "\\item 'Usage.Notes'\n",
       "\\end{enumerate*}\n"
      ],
      "text/markdown": [
       "1. 'SCC'\n",
       "2. 'Data.Category'\n",
       "3. 'Short.Name'\n",
       "4. 'EI.Sector'\n",
       "5. 'Option.Group'\n",
       "6. 'Option.Set'\n",
       "7. 'SCC.Level.One'\n",
       "8. 'SCC.Level.Two'\n",
       "9. 'SCC.Level.Three'\n",
       "10. 'SCC.Level.Four'\n",
       "11. 'Map.To'\n",
       "12. 'Last.Inventory.Year'\n",
       "13. 'Created_Date'\n",
       "14. 'Revised_Date'\n",
       "15. 'Usage.Notes'\n",
       "\n",
       "\n"
      ],
      "text/plain": [
       " [1] \"SCC\"                 \"Data.Category\"       \"Short.Name\"         \n",
       " [4] \"EI.Sector\"           \"Option.Group\"        \"Option.Set\"         \n",
       " [7] \"SCC.Level.One\"       \"SCC.Level.Two\"       \"SCC.Level.Three\"    \n",
       "[10] \"SCC.Level.Four\"      \"Map.To\"              \"Last.Inventory.Year\"\n",
       "[13] \"Created_Date\"        \"Revised_Date\"        \"Usage.Notes\"        "
      ]
     },
     "metadata": {},
     "output_type": "display_data"
    }
   ],
   "source": [
    "names(SCC)"
   ]
  },
  {
   "cell_type": "code",
   "execution_count": 9,
   "metadata": {},
   "outputs": [
    {
     "data": {
      "text/html": [
       "15"
      ],
      "text/latex": [
       "15"
      ],
      "text/markdown": [
       "15"
      ],
      "text/plain": [
       "[1] 15"
      ]
     },
     "metadata": {},
     "output_type": "display_data"
    }
   ],
   "source": [
    "length(names(SCC))"
   ]
  },
  {
   "cell_type": "code",
   "execution_count": 10,
   "metadata": {},
   "outputs": [
    {
     "data": {
      "text/html": [
       "<style>\n",
       ".list-inline {list-style: none; margin:0; padding: 0}\n",
       ".list-inline>li {display: inline-block}\n",
       ".list-inline>li:not(:last-child)::after {content: \"\\00b7\"; padding: 0 .5ex}\n",
       "</style>\n",
       "<ol class=list-inline><li>6497651</li><li>6</li></ol>\n"
      ],
      "text/latex": [
       "\\begin{enumerate*}\n",
       "\\item 6497651\n",
       "\\item 6\n",
       "\\end{enumerate*}\n"
      ],
      "text/markdown": [
       "1. 6497651\n",
       "2. 6\n",
       "\n",
       "\n"
      ],
      "text/plain": [
       "[1] 6497651       6"
      ]
     },
     "metadata": {},
     "output_type": "display_data"
    },
    {
     "data": {
      "text/html": [
       "<style>\n",
       ".list-inline {list-style: none; margin:0; padding: 0}\n",
       ".list-inline>li {display: inline-block}\n",
       ".list-inline>li:not(:last-child)::after {content: \"\\00b7\"; padding: 0 .5ex}\n",
       "</style>\n",
       "<ol class=list-inline><li>11717</li><li>15</li></ol>\n"
      ],
      "text/latex": [
       "\\begin{enumerate*}\n",
       "\\item 11717\n",
       "\\item 15\n",
       "\\end{enumerate*}\n"
      ],
      "text/markdown": [
       "1. 11717\n",
       "2. 15\n",
       "\n",
       "\n"
      ],
      "text/plain": [
       "[1] 11717    15"
      ]
     },
     "metadata": {},
     "output_type": "display_data"
    }
   ],
   "source": [
    "dim(NEI)\n",
    "dim(SCC)"
   ]
  },
  {
   "cell_type": "code",
   "execution_count": 11,
   "metadata": {},
   "outputs": [
    {
     "name": "stdout",
     "output_type": "stream",
     "text": [
      "'data.frame':\t6497651 obs. of  6 variables:\n",
      " $ fips     : chr  \"09001\" \"09001\" \"09001\" \"09001\" ...\n",
      " $ SCC      : chr  \"10100401\" \"10100404\" \"10100501\" \"10200401\" ...\n",
      " $ Pollutant: chr  \"PM25-PRI\" \"PM25-PRI\" \"PM25-PRI\" \"PM25-PRI\" ...\n",
      " $ Emissions: num  15.714 234.178 0.128 2.036 0.388 ...\n",
      " $ type     : chr  \"POINT\" \"POINT\" \"POINT\" \"POINT\" ...\n",
      " $ year     : int  1999 1999 1999 1999 1999 1999 1999 1999 1999 1999 ...\n"
     ]
    }
   ],
   "source": [
    "str(NEI)"
   ]
  },
  {
   "cell_type": "code",
   "execution_count": 12,
   "metadata": {},
   "outputs": [
    {
     "name": "stdout",
     "output_type": "stream",
     "text": [
      "'data.frame':\t11717 obs. of  15 variables:\n",
      " $ SCC                : Factor w/ 11717 levels \"10100101\",\"10100102\",..: 1 2 3 4 5 6 7 8 9 10 ...\n",
      " $ Data.Category      : Factor w/ 6 levels \"Biogenic\",\"Event\",..: 6 6 6 6 6 6 6 6 6 6 ...\n",
      " $ Short.Name         : Factor w/ 11238 levels \"\",\"2,4-D Salts and Esters Prod /Process Vents, 2,4-D Recovery: Filtration\",..: 3283 3284 3293 3291 3290 3294 3295 3296 3292 3289 ...\n",
      " $ EI.Sector          : Factor w/ 59 levels \"Agriculture - Crops & Livestock Dust\",..: 18 18 18 18 18 18 18 18 18 18 ...\n",
      " $ Option.Group       : Factor w/ 25 levels \"\",\"C/I Kerosene\",..: 1 1 1 1 1 1 1 1 1 1 ...\n",
      " $ Option.Set         : Factor w/ 18 levels \"\",\"A\",\"B\",\"B1A\",..: 1 1 1 1 1 1 1 1 1 1 ...\n",
      " $ SCC.Level.One      : Factor w/ 17 levels \"Brick Kilns\",..: 3 3 3 3 3 3 3 3 3 3 ...\n",
      " $ SCC.Level.Two      : Factor w/ 146 levels \"\",\"Agricultural Chemicals Production\",..: 32 32 32 32 32 32 32 32 32 32 ...\n",
      " $ SCC.Level.Three    : Factor w/ 1061 levels \"\",\"100% Biosolids (e.g., sewage sludge, manure, mixtures of these matls)\",..: 88 88 156 156 156 156 156 156 156 156 ...\n",
      " $ SCC.Level.Four     : Factor w/ 6084 levels \"\",\"(NH4)2 SO4 Acid Bath System and Evaporator\",..: 4455 5583 4466 4458 1341 5246 5584 5983 4461 776 ...\n",
      " $ Map.To             : num  NA NA NA NA NA NA NA NA NA NA ...\n",
      " $ Last.Inventory.Year: int  NA NA NA NA NA NA NA NA NA NA ...\n",
      " $ Created_Date       : Factor w/ 57 levels \"\",\"1/27/2000 0:00:00\",..: 1 1 1 1 1 1 1 1 1 1 ...\n",
      " $ Revised_Date       : Factor w/ 44 levels \"\",\"1/27/2000 0:00:00\",..: 1 1 1 1 1 1 1 1 1 1 ...\n",
      " $ Usage.Notes        : Factor w/ 21 levels \"\",\" \",\"includes bleaching towers, washer hoods, filtrate tanks, vacuum pump exhausts\",..: 1 1 1 1 1 1 1 1 1 1 ...\n"
     ]
    }
   ],
   "source": [
    "str(SCC)"
   ]
  },
  {
   "cell_type": "markdown",
   "metadata": {},
   "source": [
    "### Question 1\n",
    "--------------------\n",
    "Have total emissions from PM2.5 decreased in the United States from 1999 to 2008? \n",
    "Using the base plotting system, make a plot showing the total PM2.5 emission from all sources for each of the years 1999, 2002, 2005, and 2008."
   ]
  },
  {
   "cell_type": "code",
   "execution_count": 17,
   "metadata": {},
   "outputs": [
    {
     "data": {
      "text/html": [
       "<table>\n",
       "<caption>A data.frame: 4 × 2</caption>\n",
       "<thead>\n",
       "\t<tr><th scope=col>year</th><th scope=col>x</th></tr>\n",
       "\t<tr><th scope=col>&lt;int&gt;</th><th scope=col>&lt;dbl&gt;</th></tr>\n",
       "</thead>\n",
       "<tbody>\n",
       "\t<tr><td>1999</td><td>7332967</td></tr>\n",
       "\t<tr><td>2002</td><td>5635780</td></tr>\n",
       "\t<tr><td>2005</td><td>5454703</td></tr>\n",
       "\t<tr><td>2008</td><td>3464206</td></tr>\n",
       "</tbody>\n",
       "</table>\n"
      ],
      "text/latex": [
       "A data.frame: 4 × 2\n",
       "\\begin{tabular}{ll}\n",
       " year & x\\\\\n",
       " <int> & <dbl>\\\\\n",
       "\\hline\n",
       "\t 1999 & 7332967\\\\\n",
       "\t 2002 & 5635780\\\\\n",
       "\t 2005 & 5454703\\\\\n",
       "\t 2008 & 3464206\\\\\n",
       "\\end{tabular}\n"
      ],
      "text/markdown": [
       "\n",
       "A data.frame: 4 × 2\n",
       "\n",
       "| year &lt;int&gt; | x &lt;dbl&gt; |\n",
       "|---|---|\n",
       "| 1999 | 7332967 |\n",
       "| 2002 | 5635780 |\n",
       "| 2005 | 5454703 |\n",
       "| 2008 | 3464206 |\n",
       "\n"
      ],
      "text/plain": [
       "  year x      \n",
       "1 1999 7332967\n",
       "2 2002 5635780\n",
       "3 2005 5454703\n",
       "4 2008 3464206"
      ]
     },
     "metadata": {},
     "output_type": "display_data"
    }
   ],
   "source": [
    "aggregated <- aggregate(NEI$Emissions, by=list(year=NEI$year), FUN=sum)\n",
    "aggregated"
   ]
  },
  {
   "cell_type": "code",
   "execution_count": 21,
   "metadata": {},
   "outputs": [
    {
     "data": {
      "image/png": "[encoded data removed]",
      "text/plain": [
       "Plot with title \"Emissions over the Years\""
      ]
     },
     "metadata": {
      "image/png": {
       "height": 420,
       "width": 420
      },
      "text/plain": {
       "height": 420,
       "width": 420
      }
     },
     "output_type": "display_data"
    }
   ],
   "source": [
    "barplot(aggregated$x\n",
    "        , names = aggregated$year\n",
    "        , xlab = \"Years\", ylab = \"Emissions\"\n",
    "        , main = \"Emissions by Year\")"
   ]
  },
  {
   "cell_type": "code",
   "execution_count": 27,
   "metadata": {},
   "outputs": [
    {
     "data": {
      "image/png": "[encoded data removed]",
      "text/plain": [
       "Plot with title \"\"Total US \" ~ PM[2.5] ~ \"Emissions by Year\"\""
      ]
     },
     "metadata": {
      "image/png": {
       "height": 420,
       "width": 420
      },
      "text/plain": {
       "height": 420,
       "width": 420
      }
     },
     "output_type": "display_data"
    }
   ],
   "source": [
    "plot(aggregated$year, aggregated$x, type = \"l\", col = \"red\"\n",
    "     , main = expression(\"Total US \"~ PM[2.5]~ \"Emissions by Year\")\n",
    "     , ylab = expression(\"Total US \"~   PM[2.5] ~ \"Emissions\")\n",
    "     , xlab = \"Year\")"
   ]
  },
  {
   "cell_type": "code",
   "execution_count": 28,
   "metadata": {},
   "outputs": [
    {
     "data": {
      "text/html": [
       "<strong>png:</strong> 2"
      ],
      "text/latex": [
       "\\textbf{png:} 2"
      ],
      "text/markdown": [
       "**png:** 2"
      ],
      "text/plain": [
       "png \n",
       "  2 "
      ]
     },
     "metadata": {},
     "output_type": "display_data"
    }
   ],
   "source": [
    "png(filename='plot1.png')\n",
    "\n",
    "plot(aggregated$year, aggregated$x, type = \"l\", col = \"red\"\n",
    "     , main = expression(\"Total US \"~ PM[2.5]~ \"Emissions by Year\")\n",
    "     , ylab = expression(\"Total US \"~   PM[2.5] ~ \"Emissions\")\n",
    "     , xlab = \"Year\")\n",
    "\n",
    "dev.off()"
   ]
  },
  {
   "cell_type": "markdown",
   "metadata": {},
   "source": [
    "Have total emissions from PM2.5 decreased in the Baltimore City, Maryland (𝚏𝚒𝚙𝚜 == \"𝟸𝟺𝟻𝟷𝟶\") from 1999 to 2008? Use the base plotting system to make a plot answering this question.\n",
    "\n"
   ]
  },
  {
   "cell_type": "code",
   "execution_count": 29,
   "metadata": {},
   "outputs": [],
   "source": [
    "?subset"
   ]
  },
  {
   "cell_type": "code",
   "execution_count": 31,
   "metadata": {},
   "outputs": [
    {
     "data": {
      "text/html": [
       "<table>\n",
       "<caption>A data.frame: 6 × 6</caption>\n",
       "<thead>\n",
       "\t<tr><th></th><th scope=col>fips</th><th scope=col>SCC</th><th scope=col>Pollutant</th><th scope=col>Emissions</th><th scope=col>type</th><th scope=col>year</th></tr>\n",
       "\t<tr><th></th><th scope=col>&lt;chr&gt;</th><th scope=col>&lt;chr&gt;</th><th scope=col>&lt;chr&gt;</th><th scope=col>&lt;dbl&gt;</th><th scope=col>&lt;chr&gt;</th><th scope=col>&lt;int&gt;</th></tr>\n",
       "</thead>\n",
       "<tbody>\n",
       "\t<tr><th scope=row>4</th><td>09001</td><td>10100401</td><td>PM25-PRI</td><td> 15.714</td><td>POINT</td><td>1999</td></tr>\n",
       "\t<tr><th scope=row>8</th><td>09001</td><td>10100404</td><td>PM25-PRI</td><td>234.178</td><td>POINT</td><td>1999</td></tr>\n",
       "\t<tr><th scope=row>12</th><td>09001</td><td>10100501</td><td>PM25-PRI</td><td>  0.128</td><td>POINT</td><td>1999</td></tr>\n",
       "\t<tr><th scope=row>16</th><td>09001</td><td>10200401</td><td>PM25-PRI</td><td>  2.036</td><td>POINT</td><td>1999</td></tr>\n",
       "\t<tr><th scope=row>20</th><td>09001</td><td>10200504</td><td>PM25-PRI</td><td>  0.388</td><td>POINT</td><td>1999</td></tr>\n",
       "\t<tr><th scope=row>24</th><td>09001</td><td>10200602</td><td>PM25-PRI</td><td>  1.490</td><td>POINT</td><td>1999</td></tr>\n",
       "</tbody>\n",
       "</table>\n"
      ],
      "text/latex": [
       "A data.frame: 6 × 6\n",
       "\\begin{tabular}{r|llllll}\n",
       "  & fips & SCC & Pollutant & Emissions & type & year\\\\\n",
       "  & <chr> & <chr> & <chr> & <dbl> & <chr> & <int>\\\\\n",
       "\\hline\n",
       "\t4 & 09001 & 10100401 & PM25-PRI &  15.714 & POINT & 1999\\\\\n",
       "\t8 & 09001 & 10100404 & PM25-PRI & 234.178 & POINT & 1999\\\\\n",
       "\t12 & 09001 & 10100501 & PM25-PRI &   0.128 & POINT & 1999\\\\\n",
       "\t16 & 09001 & 10200401 & PM25-PRI &   2.036 & POINT & 1999\\\\\n",
       "\t20 & 09001 & 10200504 & PM25-PRI &   0.388 & POINT & 1999\\\\\n",
       "\t24 & 09001 & 10200602 & PM25-PRI &   1.490 & POINT & 1999\\\\\n",
       "\\end{tabular}\n"
      ],
      "text/markdown": [
       "\n",
       "A data.frame: 6 × 6\n",
       "\n",
       "| <!--/--> | fips &lt;chr&gt; | SCC &lt;chr&gt; | Pollutant &lt;chr&gt; | Emissions &lt;dbl&gt; | type &lt;chr&gt; | year &lt;int&gt; |\n",
       "|---|---|---|---|---|---|---|\n",
       "| 4 | 09001 | 10100401 | PM25-PRI |  15.714 | POINT | 1999 |\n",
       "| 8 | 09001 | 10100404 | PM25-PRI | 234.178 | POINT | 1999 |\n",
       "| 12 | 09001 | 10100501 | PM25-PRI |   0.128 | POINT | 1999 |\n",
       "| 16 | 09001 | 10200401 | PM25-PRI |   2.036 | POINT | 1999 |\n",
       "| 20 | 09001 | 10200504 | PM25-PRI |   0.388 | POINT | 1999 |\n",
       "| 24 | 09001 | 10200602 | PM25-PRI |   1.490 | POINT | 1999 |\n",
       "\n"
      ],
      "text/plain": [
       "   fips  SCC      Pollutant Emissions type  year\n",
       "4  09001 10100401 PM25-PRI   15.714   POINT 1999\n",
       "8  09001 10100404 PM25-PRI  234.178   POINT 1999\n",
       "12 09001 10100501 PM25-PRI    0.128   POINT 1999\n",
       "16 09001 10200401 PM25-PRI    2.036   POINT 1999\n",
       "20 09001 10200504 PM25-PRI    0.388   POINT 1999\n",
       "24 09001 10200602 PM25-PRI    1.490   POINT 1999"
      ]
     },
     "metadata": {},
     "output_type": "display_data"
    }
   ],
   "source": [
    "head(NEI)"
   ]
  },
  {
   "cell_type": "code",
   "execution_count": 38,
   "metadata": {},
   "outputs": [],
   "source": [
    "forbaltimore <- subset(NEI , NEI$fips == \"24510\")"
   ]
  },
  {
   "cell_type": "code",
   "execution_count": 39,
   "metadata": {},
   "outputs": [
    {
     "data": {
      "text/html": [
       "<table>\n",
       "<caption>A data.frame: 4 × 2</caption>\n",
       "<thead>\n",
       "\t<tr><th scope=col>year</th><th scope=col>x</th></tr>\n",
       "\t<tr><th scope=col>&lt;int&gt;</th><th scope=col>&lt;dbl&gt;</th></tr>\n",
       "</thead>\n",
       "<tbody>\n",
       "\t<tr><td>1999</td><td>3274.180</td></tr>\n",
       "\t<tr><td>2002</td><td>2453.916</td></tr>\n",
       "\t<tr><td>2005</td><td>3091.354</td></tr>\n",
       "\t<tr><td>2008</td><td>1862.282</td></tr>\n",
       "</tbody>\n",
       "</table>\n"
      ],
      "text/latex": [
       "A data.frame: 4 × 2\n",
       "\\begin{tabular}{ll}\n",
       " year & x\\\\\n",
       " <int> & <dbl>\\\\\n",
       "\\hline\n",
       "\t 1999 & 3274.180\\\\\n",
       "\t 2002 & 2453.916\\\\\n",
       "\t 2005 & 3091.354\\\\\n",
       "\t 2008 & 1862.282\\\\\n",
       "\\end{tabular}\n"
      ],
      "text/markdown": [
       "\n",
       "A data.frame: 4 × 2\n",
       "\n",
       "| year &lt;int&gt; | x &lt;dbl&gt; |\n",
       "|---|---|\n",
       "| 1999 | 3274.180 |\n",
       "| 2002 | 2453.916 |\n",
       "| 2005 | 3091.354 |\n",
       "| 2008 | 1862.282 |\n",
       "\n"
      ],
      "text/plain": [
       "  year x       \n",
       "1 1999 3274.180\n",
       "2 2002 2453.916\n",
       "3 2005 3091.354\n",
       "4 2008 1862.282"
      ]
     },
     "metadata": {},
     "output_type": "display_data"
    }
   ],
   "source": [
    "aggregated <- aggregate(forbaltimore$Emissions, by=list(year=forbaltimore$year), FUN=sum)\n",
    "aggregated"
   ]
  },
  {
   "cell_type": "code",
   "execution_count": 40,
   "metadata": {},
   "outputs": [
    {
     "data": {
      "image/png": "[encoded data removed]",
      "text/plain": [
       "Plot with title \"\"Total US \" ~ PM[2.5] ~ \"Emissions by Year For Baltimore\"\""
      ]
     },
     "metadata": {
      "image/png": {
       "height": 420,
       "width": 420
      },
      "text/plain": {
       "height": 420,
       "width": 420
      }
     },
     "output_type": "display_data"
    }
   ],
   "source": [
    "plot(aggregated$year, aggregated$x, type = \"l\", col = \"red\"\n",
    "     , main = expression(\"Total US \"~ PM[2.5]~ \"Emissions by Year For Baltimore\")\n",
    "     , ylab = expression(\"Total US \"~   PM[2.5] ~ \"Emissions\")\n",
    "     , xlab = \"Year\")"
   ]
  },
  {
   "cell_type": "code",
   "execution_count": 41,
   "metadata": {},
   "outputs": [
    {
     "data": {
      "text/html": [
       "<strong>png:</strong> 2"
      ],
      "text/latex": [
       "\\textbf{png:} 2"
      ],
      "text/markdown": [
       "**png:** 2"
      ],
      "text/plain": [
       "png \n",
       "  2 "
      ]
     },
     "metadata": {},
     "output_type": "display_data"
    }
   ],
   "source": [
    "png(filename='plot2.png')\n",
    "\n",
    "plot(aggregated$year, aggregated$x, type = \"l\", col = \"red\"\n",
    "     , main = expression(\"Total US \"~ PM[2.5]~ \"Emissions by Year\")\n",
    "     , ylab = expression(\"Total US \"~   PM[2.5] ~ \"Emissions\")\n",
    "     , xlab = \"Year\")\n",
    "\n",
    "dev.off()"
   ]
  },
  {
   "cell_type": "markdown",
   "metadata": {},
   "source": [
    "Of the four types of sources indicated by the 𝚝𝚢𝚙𝚎 (point, nonpoint, onroad, nonroad) variable, which of these four sources have seen decreases in emissions from 1999–2008 for Baltimore City? \n",
    "Which have seen increases in emissions from 1999–2008? Use the ggplot2 plotting system to make a plot answer this question."
   ]
  },
  {
   "cell_type": "code",
   "execution_count": 42,
   "metadata": {},
   "outputs": [
    {
     "data": {
      "text/html": [
       "<table>\n",
       "<caption>A data.frame: 6 × 6</caption>\n",
       "<thead>\n",
       "\t<tr><th></th><th scope=col>fips</th><th scope=col>SCC</th><th scope=col>Pollutant</th><th scope=col>Emissions</th><th scope=col>type</th><th scope=col>year</th></tr>\n",
       "\t<tr><th></th><th scope=col>&lt;chr&gt;</th><th scope=col>&lt;chr&gt;</th><th scope=col>&lt;chr&gt;</th><th scope=col>&lt;dbl&gt;</th><th scope=col>&lt;chr&gt;</th><th scope=col>&lt;int&gt;</th></tr>\n",
       "</thead>\n",
       "<tbody>\n",
       "\t<tr><th scope=row>4</th><td>09001</td><td>10100401</td><td>PM25-PRI</td><td> 15.714</td><td>POINT</td><td>1999</td></tr>\n",
       "\t<tr><th scope=row>8</th><td>09001</td><td>10100404</td><td>PM25-PRI</td><td>234.178</td><td>POINT</td><td>1999</td></tr>\n",
       "\t<tr><th scope=row>12</th><td>09001</td><td>10100501</td><td>PM25-PRI</td><td>  0.128</td><td>POINT</td><td>1999</td></tr>\n",
       "\t<tr><th scope=row>16</th><td>09001</td><td>10200401</td><td>PM25-PRI</td><td>  2.036</td><td>POINT</td><td>1999</td></tr>\n",
       "\t<tr><th scope=row>20</th><td>09001</td><td>10200504</td><td>PM25-PRI</td><td>  0.388</td><td>POINT</td><td>1999</td></tr>\n",
       "\t<tr><th scope=row>24</th><td>09001</td><td>10200602</td><td>PM25-PRI</td><td>  1.490</td><td>POINT</td><td>1999</td></tr>\n",
       "</tbody>\n",
       "</table>\n"
      ],
      "text/latex": [
       "A data.frame: 6 × 6\n",
       "\\begin{tabular}{r|llllll}\n",
       "  & fips & SCC & Pollutant & Emissions & type & year\\\\\n",
       "  & <chr> & <chr> & <chr> & <dbl> & <chr> & <int>\\\\\n",
       "\\hline\n",
       "\t4 & 09001 & 10100401 & PM25-PRI &  15.714 & POINT & 1999\\\\\n",
       "\t8 & 09001 & 10100404 & PM25-PRI & 234.178 & POINT & 1999\\\\\n",
       "\t12 & 09001 & 10100501 & PM25-PRI &   0.128 & POINT & 1999\\\\\n",
       "\t16 & 09001 & 10200401 & PM25-PRI &   2.036 & POINT & 1999\\\\\n",
       "\t20 & 09001 & 10200504 & PM25-PRI &   0.388 & POINT & 1999\\\\\n",
       "\t24 & 09001 & 10200602 & PM25-PRI &   1.490 & POINT & 1999\\\\\n",
       "\\end{tabular}\n"
      ],
      "text/markdown": [
       "\n",
       "A data.frame: 6 × 6\n",
       "\n",
       "| <!--/--> | fips &lt;chr&gt; | SCC &lt;chr&gt; | Pollutant &lt;chr&gt; | Emissions &lt;dbl&gt; | type &lt;chr&gt; | year &lt;int&gt; |\n",
       "|---|---|---|---|---|---|---|\n",
       "| 4 | 09001 | 10100401 | PM25-PRI |  15.714 | POINT | 1999 |\n",
       "| 8 | 09001 | 10100404 | PM25-PRI | 234.178 | POINT | 1999 |\n",
       "| 12 | 09001 | 10100501 | PM25-PRI |   0.128 | POINT | 1999 |\n",
       "| 16 | 09001 | 10200401 | PM25-PRI |   2.036 | POINT | 1999 |\n",
       "| 20 | 09001 | 10200504 | PM25-PRI |   0.388 | POINT | 1999 |\n",
       "| 24 | 09001 | 10200602 | PM25-PRI |   1.490 | POINT | 1999 |\n",
       "\n"
      ],
      "text/plain": [
       "   fips  SCC      Pollutant Emissions type  year\n",
       "4  09001 10100401 PM25-PRI   15.714   POINT 1999\n",
       "8  09001 10100404 PM25-PRI  234.178   POINT 1999\n",
       "12 09001 10100501 PM25-PRI    0.128   POINT 1999\n",
       "16 09001 10200401 PM25-PRI    2.036   POINT 1999\n",
       "20 09001 10200504 PM25-PRI    0.388   POINT 1999\n",
       "24 09001 10200602 PM25-PRI    1.490   POINT 1999"
      ]
     },
     "metadata": {},
     "output_type": "display_data"
    }
   ],
   "source": [
    "head(NEI)"
   ]
  },
  {
   "cell_type": "code",
   "execution_count": 43,
   "metadata": {
    "scrolled": true
   },
   "outputs": [
    {
     "data": {
      "text/html": [
       "<table>\n",
       "<caption>A data.frame: 6 × 15</caption>\n",
       "<thead>\n",
       "\t<tr><th></th><th scope=col>SCC</th><th scope=col>Data.Category</th><th scope=col>Short.Name</th><th scope=col>EI.Sector</th><th scope=col>Option.Group</th><th scope=col>Option.Set</th><th scope=col>SCC.Level.One</th><th scope=col>SCC.Level.Two</th><th scope=col>SCC.Level.Three</th><th scope=col>SCC.Level.Four</th><th scope=col>Map.To</th><th scope=col>Last.Inventory.Year</th><th scope=col>Created_Date</th><th scope=col>Revised_Date</th><th scope=col>Usage.Notes</th></tr>\n",
       "\t<tr><th></th><th scope=col>&lt;fct&gt;</th><th scope=col>&lt;fct&gt;</th><th scope=col>&lt;fct&gt;</th><th scope=col>&lt;fct&gt;</th><th scope=col>&lt;fct&gt;</th><th scope=col>&lt;fct&gt;</th><th scope=col>&lt;fct&gt;</th><th scope=col>&lt;fct&gt;</th><th scope=col>&lt;fct&gt;</th><th scope=col>&lt;fct&gt;</th><th scope=col>&lt;dbl&gt;</th><th scope=col>&lt;int&gt;</th><th scope=col>&lt;fct&gt;</th><th scope=col>&lt;fct&gt;</th><th scope=col>&lt;fct&gt;</th></tr>\n",
       "</thead>\n",
       "<tbody>\n",
       "\t<tr><th scope=row>1</th><td>10100101</td><td>Point</td><td>Ext Comb /Electric Gen /Anthracite Coal /Pulverized Coal                  </td><td>Fuel Comb - Electric Generation - Coal</td><td></td><td></td><td>External Combustion Boilers</td><td>Electric Generation</td><td>Anthracite Coal              </td><td>Pulverized Coal                              </td><td>NA</td><td>NA</td><td></td><td></td><td></td></tr>\n",
       "\t<tr><th scope=row>2</th><td>10100102</td><td>Point</td><td>Ext Comb /Electric Gen /Anthracite Coal /Traveling Grate (Overfeed) Stoker</td><td>Fuel Comb - Electric Generation - Coal</td><td></td><td></td><td>External Combustion Boilers</td><td>Electric Generation</td><td>Anthracite Coal              </td><td>Traveling Grate (Overfeed) Stoker            </td><td>NA</td><td>NA</td><td></td><td></td><td></td></tr>\n",
       "\t<tr><th scope=row>3</th><td>10100201</td><td>Point</td><td>Ext Comb /Electric Gen /Bituminous Coal /Pulverized Coal: Wet Bottom      </td><td>Fuel Comb - Electric Generation - Coal</td><td></td><td></td><td>External Combustion Boilers</td><td>Electric Generation</td><td>Bituminous/Subbituminous Coal</td><td>Pulverized Coal: Wet Bottom (Bituminous Coal)</td><td>NA</td><td>NA</td><td></td><td></td><td></td></tr>\n",
       "\t<tr><th scope=row>4</th><td>10100202</td><td>Point</td><td>Ext Comb /Electric Gen /Bituminous Coal /Pulverized Coal: Dry Bottom      </td><td>Fuel Comb - Electric Generation - Coal</td><td></td><td></td><td>External Combustion Boilers</td><td>Electric Generation</td><td>Bituminous/Subbituminous Coal</td><td>Pulverized Coal: Dry Bottom (Bituminous Coal)</td><td>NA</td><td>NA</td><td></td><td></td><td></td></tr>\n",
       "\t<tr><th scope=row>5</th><td>10100203</td><td>Point</td><td>Ext Comb /Electric Gen /Bituminous Coal /Cyclone Furnace                  </td><td>Fuel Comb - Electric Generation - Coal</td><td></td><td></td><td>External Combustion Boilers</td><td>Electric Generation</td><td>Bituminous/Subbituminous Coal</td><td>Cyclone Furnace (Bituminous Coal)            </td><td>NA</td><td>NA</td><td></td><td></td><td></td></tr>\n",
       "\t<tr><th scope=row>6</th><td>10100204</td><td>Point</td><td>Ext Comb /Electric Gen /Bituminous Coal /Spreader Stoker                  </td><td>Fuel Comb - Electric Generation - Coal</td><td></td><td></td><td>External Combustion Boilers</td><td>Electric Generation</td><td>Bituminous/Subbituminous Coal</td><td>Spreader Stoker (Bituminous Coal)            </td><td>NA</td><td>NA</td><td></td><td></td><td></td></tr>\n",
       "</tbody>\n",
       "</table>\n"
      ],
      "text/latex": [
       "A data.frame: 6 × 15\n",
       "\\begin{tabular}{r|lllllllllllllll}\n",
       "  & SCC & Data.Category & Short.Name & EI.Sector & Option.Group & Option.Set & SCC.Level.One & SCC.Level.Two & SCC.Level.Three & SCC.Level.Four & Map.To & Last.Inventory.Year & Created\\_Date & Revised\\_Date & Usage.Notes\\\\\n",
       "  & <fct> & <fct> & <fct> & <fct> & <fct> & <fct> & <fct> & <fct> & <fct> & <fct> & <dbl> & <int> & <fct> & <fct> & <fct>\\\\\n",
       "\\hline\n",
       "\t1 & 10100101 & Point & Ext Comb /Electric Gen /Anthracite Coal /Pulverized Coal                   & Fuel Comb - Electric Generation - Coal &  &  & External Combustion Boilers & Electric Generation & Anthracite Coal               & Pulverized Coal                               & NA & NA &  &  & \\\\\n",
       "\t2 & 10100102 & Point & Ext Comb /Electric Gen /Anthracite Coal /Traveling Grate (Overfeed) Stoker & Fuel Comb - Electric Generation - Coal &  &  & External Combustion Boilers & Electric Generation & Anthracite Coal               & Traveling Grate (Overfeed) Stoker             & NA & NA &  &  & \\\\\n",
       "\t3 & 10100201 & Point & Ext Comb /Electric Gen /Bituminous Coal /Pulverized Coal: Wet Bottom       & Fuel Comb - Electric Generation - Coal &  &  & External Combustion Boilers & Electric Generation & Bituminous/Subbituminous Coal & Pulverized Coal: Wet Bottom (Bituminous Coal) & NA & NA &  &  & \\\\\n",
       "\t4 & 10100202 & Point & Ext Comb /Electric Gen /Bituminous Coal /Pulverized Coal: Dry Bottom       & Fuel Comb - Electric Generation - Coal &  &  & External Combustion Boilers & Electric Generation & Bituminous/Subbituminous Coal & Pulverized Coal: Dry Bottom (Bituminous Coal) & NA & NA &  &  & \\\\\n",
       "\t5 & 10100203 & Point & Ext Comb /Electric Gen /Bituminous Coal /Cyclone Furnace                   & Fuel Comb - Electric Generation - Coal &  &  & External Combustion Boilers & Electric Generation & Bituminous/Subbituminous Coal & Cyclone Furnace (Bituminous Coal)             & NA & NA &  &  & \\\\\n",
       "\t6 & 10100204 & Point & Ext Comb /Electric Gen /Bituminous Coal /Spreader Stoker                   & Fuel Comb - Electric Generation - Coal &  &  & External Combustion Boilers & Electric Generation & Bituminous/Subbituminous Coal & Spreader Stoker (Bituminous Coal)             & NA & NA &  &  & \\\\\n",
       "\\end{tabular}\n"
      ],
      "text/markdown": [
       "\n",
       "A data.frame: 6 × 15\n",
       "\n",
       "| <!--/--> | SCC &lt;fct&gt; | Data.Category &lt;fct&gt; | Short.Name &lt;fct&gt; | EI.Sector &lt;fct&gt; | Option.Group &lt;fct&gt; | Option.Set &lt;fct&gt; | SCC.Level.One &lt;fct&gt; | SCC.Level.Two &lt;fct&gt; | SCC.Level.Three &lt;fct&gt; | SCC.Level.Four &lt;fct&gt; | Map.To &lt;dbl&gt; | Last.Inventory.Year &lt;int&gt; | Created_Date &lt;fct&gt; | Revised_Date &lt;fct&gt; | Usage.Notes &lt;fct&gt; |\n",
       "|---|---|---|---|---|---|---|---|---|---|---|---|---|---|---|---|\n",
       "| 1 | 10100101 | Point | Ext Comb /Electric Gen /Anthracite Coal /Pulverized Coal                   | Fuel Comb - Electric Generation - Coal | <!----> | <!----> | External Combustion Boilers | Electric Generation | Anthracite Coal               | Pulverized Coal                               | NA | NA | <!----> | <!----> | <!----> |\n",
       "| 2 | 10100102 | Point | Ext Comb /Electric Gen /Anthracite Coal /Traveling Grate (Overfeed) Stoker | Fuel Comb - Electric Generation - Coal | <!----> | <!----> | External Combustion Boilers | Electric Generation | Anthracite Coal               | Traveling Grate (Overfeed) Stoker             | NA | NA | <!----> | <!----> | <!----> |\n",
       "| 3 | 10100201 | Point | Ext Comb /Electric Gen /Bituminous Coal /Pulverized Coal: Wet Bottom       | Fuel Comb - Electric Generation - Coal | <!----> | <!----> | External Combustion Boilers | Electric Generation | Bituminous/Subbituminous Coal | Pulverized Coal: Wet Bottom (Bituminous Coal) | NA | NA | <!----> | <!----> | <!----> |\n",
       "| 4 | 10100202 | Point | Ext Comb /Electric Gen /Bituminous Coal /Pulverized Coal: Dry Bottom       | Fuel Comb - Electric Generation - Coal | <!----> | <!----> | External Combustion Boilers | Electric Generation | Bituminous/Subbituminous Coal | Pulverized Coal: Dry Bottom (Bituminous Coal) | NA | NA | <!----> | <!----> | <!----> |\n",
       "| 5 | 10100203 | Point | Ext Comb /Electric Gen /Bituminous Coal /Cyclone Furnace                   | Fuel Comb - Electric Generation - Coal | <!----> | <!----> | External Combustion Boilers | Electric Generation | Bituminous/Subbituminous Coal | Cyclone Furnace (Bituminous Coal)             | NA | NA | <!----> | <!----> | <!----> |\n",
       "| 6 | 10100204 | Point | Ext Comb /Electric Gen /Bituminous Coal /Spreader Stoker                   | Fuel Comb - Electric Generation - Coal | <!----> | <!----> | External Combustion Boilers | Electric Generation | Bituminous/Subbituminous Coal | Spreader Stoker (Bituminous Coal)             | NA | NA | <!----> | <!----> | <!----> |\n",
       "\n"
      ],
      "text/plain": [
       "  SCC      Data.Category\n",
       "1 10100101 Point        \n",
       "2 10100102 Point        \n",
       "3 10100201 Point        \n",
       "4 10100202 Point        \n",
       "5 10100203 Point        \n",
       "6 10100204 Point        \n",
       "  Short.Name                                                                \n",
       "1 Ext Comb /Electric Gen /Anthracite Coal /Pulverized Coal                  \n",
       "2 Ext Comb /Electric Gen /Anthracite Coal /Traveling Grate (Overfeed) Stoker\n",
       "3 Ext Comb /Electric Gen /Bituminous Coal /Pulverized Coal: Wet Bottom      \n",
       "4 Ext Comb /Electric Gen /Bituminous Coal /Pulverized Coal: Dry Bottom      \n",
       "5 Ext Comb /Electric Gen /Bituminous Coal /Cyclone Furnace                  \n",
       "6 Ext Comb /Electric Gen /Bituminous Coal /Spreader Stoker                  \n",
       "  EI.Sector                              Option.Group Option.Set\n",
       "1 Fuel Comb - Electric Generation - Coal                        \n",
       "2 Fuel Comb - Electric Generation - Coal                        \n",
       "3 Fuel Comb - Electric Generation - Coal                        \n",
       "4 Fuel Comb - Electric Generation - Coal                        \n",
       "5 Fuel Comb - Electric Generation - Coal                        \n",
       "6 Fuel Comb - Electric Generation - Coal                        \n",
       "  SCC.Level.One               SCC.Level.Two       SCC.Level.Three              \n",
       "1 External Combustion Boilers Electric Generation Anthracite Coal              \n",
       "2 External Combustion Boilers Electric Generation Anthracite Coal              \n",
       "3 External Combustion Boilers Electric Generation Bituminous/Subbituminous Coal\n",
       "4 External Combustion Boilers Electric Generation Bituminous/Subbituminous Coal\n",
       "5 External Combustion Boilers Electric Generation Bituminous/Subbituminous Coal\n",
       "6 External Combustion Boilers Electric Generation Bituminous/Subbituminous Coal\n",
       "  SCC.Level.Four                                Map.To Last.Inventory.Year\n",
       "1 Pulverized Coal                               NA     NA                 \n",
       "2 Traveling Grate (Overfeed) Stoker             NA     NA                 \n",
       "3 Pulverized Coal: Wet Bottom (Bituminous Coal) NA     NA                 \n",
       "4 Pulverized Coal: Dry Bottom (Bituminous Coal) NA     NA                 \n",
       "5 Cyclone Furnace (Bituminous Coal)             NA     NA                 \n",
       "6 Spreader Stoker (Bituminous Coal)             NA     NA                 \n",
       "  Created_Date Revised_Date Usage.Notes\n",
       "1                                      \n",
       "2                                      \n",
       "3                                      \n",
       "4                                      \n",
       "5                                      \n",
       "6                                      "
      ]
     },
     "metadata": {},
     "output_type": "display_data"
    }
   ],
   "source": [
    "head(SCC)"
   ]
  },
  {
   "cell_type": "code",
   "execution_count": 45,
   "metadata": {},
   "outputs": [
    {
     "data": {
      "text/html": [
       "<table>\n",
       "<caption>A data.frame: 16 × 3</caption>\n",
       "<thead>\n",
       "\t<tr><th scope=col>year</th><th scope=col>type</th><th scope=col>x</th></tr>\n",
       "\t<tr><th scope=col>&lt;int&gt;</th><th scope=col>&lt;chr&gt;</th><th scope=col>&lt;dbl&gt;</th></tr>\n",
       "</thead>\n",
       "<tbody>\n",
       "\t<tr><td>1999</td><td>NON-ROAD</td><td> 522.94000</td></tr>\n",
       "\t<tr><td>2002</td><td>NON-ROAD</td><td> 240.84692</td></tr>\n",
       "\t<tr><td>2005</td><td>NON-ROAD</td><td> 248.93369</td></tr>\n",
       "\t<tr><td>2008</td><td>NON-ROAD</td><td>  55.82356</td></tr>\n",
       "\t<tr><td>1999</td><td>NONPOINT</td><td>2107.62500</td></tr>\n",
       "\t<tr><td>2002</td><td>NONPOINT</td><td>1509.50000</td></tr>\n",
       "\t<tr><td>2005</td><td>NONPOINT</td><td>1509.50000</td></tr>\n",
       "\t<tr><td>2008</td><td>NONPOINT</td><td>1373.20731</td></tr>\n",
       "\t<tr><td>1999</td><td>ON-ROAD </td><td> 346.82000</td></tr>\n",
       "\t<tr><td>2002</td><td>ON-ROAD </td><td> 134.30882</td></tr>\n",
       "\t<tr><td>2005</td><td>ON-ROAD </td><td> 130.43038</td></tr>\n",
       "\t<tr><td>2008</td><td>ON-ROAD </td><td>  88.27546</td></tr>\n",
       "\t<tr><td>1999</td><td>POINT   </td><td> 296.79500</td></tr>\n",
       "\t<tr><td>2002</td><td>POINT   </td><td> 569.26000</td></tr>\n",
       "\t<tr><td>2005</td><td>POINT   </td><td>1202.49000</td></tr>\n",
       "\t<tr><td>2008</td><td>POINT   </td><td> 344.97518</td></tr>\n",
       "</tbody>\n",
       "</table>\n"
      ],
      "text/latex": [
       "A data.frame: 16 × 3\n",
       "\\begin{tabular}{lll}\n",
       " year & type & x\\\\\n",
       " <int> & <chr> & <dbl>\\\\\n",
       "\\hline\n",
       "\t 1999 & NON-ROAD &  522.94000\\\\\n",
       "\t 2002 & NON-ROAD &  240.84692\\\\\n",
       "\t 2005 & NON-ROAD &  248.93369\\\\\n",
       "\t 2008 & NON-ROAD &   55.82356\\\\\n",
       "\t 1999 & NONPOINT & 2107.62500\\\\\n",
       "\t 2002 & NONPOINT & 1509.50000\\\\\n",
       "\t 2005 & NONPOINT & 1509.50000\\\\\n",
       "\t 2008 & NONPOINT & 1373.20731\\\\\n",
       "\t 1999 & ON-ROAD  &  346.82000\\\\\n",
       "\t 2002 & ON-ROAD  &  134.30882\\\\\n",
       "\t 2005 & ON-ROAD  &  130.43038\\\\\n",
       "\t 2008 & ON-ROAD  &   88.27546\\\\\n",
       "\t 1999 & POINT    &  296.79500\\\\\n",
       "\t 2002 & POINT    &  569.26000\\\\\n",
       "\t 2005 & POINT    & 1202.49000\\\\\n",
       "\t 2008 & POINT    &  344.97518\\\\\n",
       "\\end{tabular}\n"
      ],
      "text/markdown": [
       "\n",
       "A data.frame: 16 × 3\n",
       "\n",
       "| year &lt;int&gt; | type &lt;chr&gt; | x &lt;dbl&gt; |\n",
       "|---|---|---|\n",
       "| 1999 | NON-ROAD |  522.94000 |\n",
       "| 2002 | NON-ROAD |  240.84692 |\n",
       "| 2005 | NON-ROAD |  248.93369 |\n",
       "| 2008 | NON-ROAD |   55.82356 |\n",
       "| 1999 | NONPOINT | 2107.62500 |\n",
       "| 2002 | NONPOINT | 1509.50000 |\n",
       "| 2005 | NONPOINT | 1509.50000 |\n",
       "| 2008 | NONPOINT | 1373.20731 |\n",
       "| 1999 | ON-ROAD  |  346.82000 |\n",
       "| 2002 | ON-ROAD  |  134.30882 |\n",
       "| 2005 | ON-ROAD  |  130.43038 |\n",
       "| 2008 | ON-ROAD  |   88.27546 |\n",
       "| 1999 | POINT    |  296.79500 |\n",
       "| 2002 | POINT    |  569.26000 |\n",
       "| 2005 | POINT    | 1202.49000 |\n",
       "| 2008 | POINT    |  344.97518 |\n",
       "\n"
      ],
      "text/plain": [
       "   year type     x         \n",
       "1  1999 NON-ROAD  522.94000\n",
       "2  2002 NON-ROAD  240.84692\n",
       "3  2005 NON-ROAD  248.93369\n",
       "4  2008 NON-ROAD   55.82356\n",
       "5  1999 NONPOINT 2107.62500\n",
       "6  2002 NONPOINT 1509.50000\n",
       "7  2005 NONPOINT 1509.50000\n",
       "8  2008 NONPOINT 1373.20731\n",
       "9  1999 ON-ROAD   346.82000\n",
       "10 2002 ON-ROAD   134.30882\n",
       "11 2005 ON-ROAD   130.43038\n",
       "12 2008 ON-ROAD    88.27546\n",
       "13 1999 POINT     296.79500\n",
       "14 2002 POINT     569.26000\n",
       "15 2005 POINT    1202.49000\n",
       "16 2008 POINT     344.97518"
      ]
     },
     "metadata": {},
     "output_type": "display_data"
    }
   ],
   "source": [
    "forbaltimore <- subset(NEI , NEI$fips == \"24510\")\n",
    "aggregated <- aggregate(forbaltimore$Emissions, by=list(year=forbaltimore$year , type=forbaltimore$type), FUN=sum)\n",
    "aggregated"
   ]
  },
  {
   "cell_type": "code",
   "execution_count": 52,
   "metadata": {},
   "outputs": [],
   "source": [
    "library(ggplot2)"
   ]
  },
  {
   "cell_type": "code",
   "execution_count": 62,
   "metadata": {},
   "outputs": [],
   "source": [
    "g <- ggplot(aggregated, aes(year, x , group= type)) "
   ]
  },
  {
   "cell_type": "code",
   "execution_count": 76,
   "metadata": {
    "scrolled": false
   },
   "outputs": [
    {
     "data": {
      "image/png": "[encoded data removed]",
      "text/plain": [
       "plot without title"
      ]
     },
     "metadata": {
      "image/png": {
       "height": 420,
       "width": 420
      },
      "text/plain": {
       "height": 420,
       "width": 420
      }
     },
     "output_type": "display_data"
    }
   ],
   "source": [
    "g + geom_point(aes(color = type), size = 5, alpha = 1/2) + geom_line( size = 1)+ \n",
    "    ggtitle(expression(\"Total Baltimore \" ~ PM[2.5] ~ \"Emissions by Year for each Type\")) +\n",
    "    ylab(expression(\"Total Baltimore \" ~ PM[2.5] ~ \"Emissions\")) +\n",
    "    xlab(\"Year\") +\n",
    "    scale_colour_discrete(name = \"Type\")"
   ]
  },
  {
   "cell_type": "code",
   "execution_count": 84,
   "metadata": {},
   "outputs": [
    {
     "data": {
      "text/html": [
       "<strong>png:</strong> 2"
      ],
      "text/latex": [
       "\\textbf{png:} 2"
      ],
      "text/markdown": [
       "**png:** 2"
      ],
      "text/plain": [
       "png \n",
       "  2 "
      ]
     },
     "metadata": {},
     "output_type": "display_data"
    }
   ],
   "source": [
    "png(filename='plot3.png')\n",
    "\n",
    "g + geom_point(aes(color = type), size = 5, alpha = 1/2) + geom_line( size = 1)+ \n",
    "    ggtitle(expression(\"Total Baltimore \" ~ PM[2.5] ~ \"Emissions by Year for each Type\")) +\n",
    "    ylab(expression(\"Total Baltimore \" ~ PM[2.5] ~ \"Emissions\")) +\n",
    "    xlab(\"Year\") +\n",
    "    scale_colour_discrete(name = \"Type\")\n",
    "dev.off()"
   ]
  },
  {
   "cell_type": "markdown",
   "metadata": {},
   "source": [
    "4. Across the United States, how have emissions from coal combustion-related sources changed from 1999-2008?\n",
    "\n"
   ]
  },
  {
   "cell_type": "code",
   "execution_count": 80,
   "metadata": {},
   "outputs": [
    {
     "data": {
      "text/html": [
       "<table>\n",
       "<caption>A data.frame: 8 × 3</caption>\n",
       "<thead>\n",
       "\t<tr><th scope=col>year</th><th scope=col>type</th><th scope=col>x</th></tr>\n",
       "\t<tr><th scope=col>&lt;int&gt;</th><th scope=col>&lt;chr&gt;</th><th scope=col>&lt;dbl&gt;</th></tr>\n",
       "</thead>\n",
       "<tbody>\n",
       "\t<tr><td>1999</td><td>NONPOINT</td><td> 18682.615</td></tr>\n",
       "\t<tr><td>2002</td><td>NONPOINT</td><td> 68364.623</td></tr>\n",
       "\t<tr><td>2005</td><td>NONPOINT</td><td> 68364.623</td></tr>\n",
       "\t<tr><td>2008</td><td>NONPOINT</td><td>  8229.776</td></tr>\n",
       "\t<tr><td>1999</td><td>POINT   </td><td>583941.487</td></tr>\n",
       "\t<tr><td>2002</td><td>POINT   </td><td>496575.374</td></tr>\n",
       "\t<tr><td>2005</td><td>POINT   </td><td>501290.084</td></tr>\n",
       "\t<tr><td>2008</td><td>POINT   </td><td>349854.078</td></tr>\n",
       "</tbody>\n",
       "</table>\n"
      ],
      "text/latex": [
       "A data.frame: 8 × 3\n",
       "\\begin{tabular}{lll}\n",
       " year & type & x\\\\\n",
       " <int> & <chr> & <dbl>\\\\\n",
       "\\hline\n",
       "\t 1999 & NONPOINT &  18682.615\\\\\n",
       "\t 2002 & NONPOINT &  68364.623\\\\\n",
       "\t 2005 & NONPOINT &  68364.623\\\\\n",
       "\t 2008 & NONPOINT &   8229.776\\\\\n",
       "\t 1999 & POINT    & 583941.487\\\\\n",
       "\t 2002 & POINT    & 496575.374\\\\\n",
       "\t 2005 & POINT    & 501290.084\\\\\n",
       "\t 2008 & POINT    & 349854.078\\\\\n",
       "\\end{tabular}\n"
      ],
      "text/markdown": [
       "\n",
       "A data.frame: 8 × 3\n",
       "\n",
       "| year &lt;int&gt; | type &lt;chr&gt; | x &lt;dbl&gt; |\n",
       "|---|---|---|\n",
       "| 1999 | NONPOINT |  18682.615 |\n",
       "| 2002 | NONPOINT |  68364.623 |\n",
       "| 2005 | NONPOINT |  68364.623 |\n",
       "| 2008 | NONPOINT |   8229.776 |\n",
       "| 1999 | POINT    | 583941.487 |\n",
       "| 2002 | POINT    | 496575.374 |\n",
       "| 2005 | POINT    | 501290.084 |\n",
       "| 2008 | POINT    | 349854.078 |\n",
       "\n"
      ],
      "text/plain": [
       "  year type     x         \n",
       "1 1999 NONPOINT  18682.615\n",
       "2 2002 NONPOINT  68364.623\n",
       "3 2005 NONPOINT  68364.623\n",
       "4 2008 NONPOINT   8229.776\n",
       "5 1999 POINT    583941.487\n",
       "6 2002 POINT    496575.374\n",
       "7 2005 POINT    501290.084\n",
       "8 2008 POINT    349854.078"
      ]
     },
     "metadata": {},
     "output_type": "display_data"
    }
   ],
   "source": [
    "coalrows <- grepl(\"coal\", SCC$Short.Name, ignore.case = T)\n",
    "SCCcoal <- SCC[coalrows,]\n",
    "NEIcoal <- subset(NEI , NEI$SCC %in% SCCcoal$SCC)\n",
    "aggregated <- aggregate(NEIcoal$Emissions, by=list(year=NEIcoal$year , type=NEIcoal$type), FUN=sum)\n",
    "aggregated"
   ]
  },
  {
   "cell_type": "code",
   "execution_count": 82,
   "metadata": {},
   "outputs": [
    {
     "data": {
      "image/png": "[encoded data removed]",
      "text/plain": [
       "plot without title"
      ]
     },
     "metadata": {
      "image/png": {
       "height": 420,
       "width": 420
      },
      "text/plain": {
       "height": 420,
       "width": 420
      }
     },
     "output_type": "display_data"
    }
   ],
   "source": [
    "g <- ggplot(aggregated, aes(year, x , group= type)) \n",
    "g + geom_point(aes(color = type), size = 5, alpha = 1/2) + geom_line( size = 1)+ \n",
    "    ggtitle(expression(\"Total Baltimore \" ~ PM[2.5] ~ \"Emissions by Year for each Type\")) +\n",
    "    ylab(expression(\"Total Baltimore \" ~ PM[2.5] ~ \"Emissions\")) +\n",
    "    xlab(\"Year\") +\n",
    "    scale_colour_discrete(name = \"Type\")"
   ]
  },
  {
   "cell_type": "code",
   "execution_count": 85,
   "metadata": {},
   "outputs": [
    {
     "data": {
      "text/html": [
       "<strong>png:</strong> 2"
      ],
      "text/latex": [
       "\\textbf{png:} 2"
      ],
      "text/markdown": [
       "**png:** 2"
      ],
      "text/plain": [
       "png \n",
       "  2 "
      ]
     },
     "metadata": {},
     "output_type": "display_data"
    }
   ],
   "source": [
    "png(filename='plot4.png')\n",
    "g <- ggplot(aggregated, aes(year, x , group= type)) \n",
    "g + geom_point(aes(color = type), size = 5, alpha = 1/2) + geom_line( size = 1)+ \n",
    "    ggtitle(expression(\"Total Baltimore \" ~ PM[2.5] ~ \"Emissions by Year for each Type\")) +\n",
    "    ylab(expression(\"Total Baltimore \" ~ PM[2.5] ~ \"Emissions\")) +\n",
    "    xlab(\"Year\") +\n",
    "    scale_colour_discrete(name = \"Type\")\n",
    "dev.off()"
   ]
  },
  {
   "cell_type": "markdown",
   "metadata": {},
   "source": [
    "5. How have emissions from motor vehicle sources changed from 1999-2008 in Baltimore City?"
   ]
  },
  {
   "cell_type": "code",
   "execution_count": 86,
   "metadata": {},
   "outputs": [],
   "source": [
    "baltimoreMotor <- subset(NEI, NEI$fips == \"24510\" & NEI$type == \"ON-ROAD\")"
   ]
  },
  {
   "cell_type": "code",
   "execution_count": 87,
   "metadata": {},
   "outputs": [
    {
     "data": {
      "text/html": [
       "<table>\n",
       "<caption>A data.frame: 4 × 2</caption>\n",
       "<thead>\n",
       "\t<tr><th scope=col>year</th><th scope=col>x</th></tr>\n",
       "\t<tr><th scope=col>&lt;int&gt;</th><th scope=col>&lt;dbl&gt;</th></tr>\n",
       "</thead>\n",
       "<tbody>\n",
       "\t<tr><td>1999</td><td>346.82000</td></tr>\n",
       "\t<tr><td>2002</td><td>134.30882</td></tr>\n",
       "\t<tr><td>2005</td><td>130.43038</td></tr>\n",
       "\t<tr><td>2008</td><td> 88.27546</td></tr>\n",
       "</tbody>\n",
       "</table>\n"
      ],
      "text/latex": [
       "A data.frame: 4 × 2\n",
       "\\begin{tabular}{ll}\n",
       " year & x\\\\\n",
       " <int> & <dbl>\\\\\n",
       "\\hline\n",
       "\t 1999 & 346.82000\\\\\n",
       "\t 2002 & 134.30882\\\\\n",
       "\t 2005 & 130.43038\\\\\n",
       "\t 2008 &  88.27546\\\\\n",
       "\\end{tabular}\n"
      ],
      "text/markdown": [
       "\n",
       "A data.frame: 4 × 2\n",
       "\n",
       "| year &lt;int&gt; | x &lt;dbl&gt; |\n",
       "|---|---|\n",
       "| 1999 | 346.82000 |\n",
       "| 2002 | 134.30882 |\n",
       "| 2005 | 130.43038 |\n",
       "| 2008 |  88.27546 |\n",
       "\n"
      ],
      "text/plain": [
       "  year x        \n",
       "1 1999 346.82000\n",
       "2 2002 134.30882\n",
       "3 2005 130.43038\n",
       "4 2008  88.27546"
      ]
     },
     "metadata": {},
     "output_type": "display_data"
    }
   ],
   "source": [
    "aggregated <- aggregate(baltimoreMotor$Emissions, by=list(year=baltimoreMotor$year), FUN=sum)\n",
    "aggregated"
   ]
  },
  {
   "cell_type": "code",
   "execution_count": 92,
   "metadata": {
    "scrolled": true
   },
   "outputs": [
    {
     "data": {
      "image/png": "[encoded data removed]",
      "text/plain": [
       "plot without title"
      ]
     },
     "metadata": {
      "image/png": {
       "height": 420,
       "width": 420
      },
      "text/plain": {
       "height": 420,
       "width": 420
      }
     },
     "output_type": "display_data"
    }
   ],
   "source": [
    "g <- ggplot(aggregated, aes(year, x)) \n",
    "g + geom_point(size = 5, alpha = 1/2) + geom_line( size = 1 , color = 'blue')+ \n",
    "    ggtitle(expression(\"Total Baltimore \" ~ PM[2.5] ~ \"Motor Vehicle Emissions by Year\")) +\n",
    "    ylab(expression(\"Total Baltimore \" ~ PM[2.5] ~ \"Motor Vehicle Emissions\")) +\n",
    "    xlab(\"Year\")"
   ]
  },
  {
   "cell_type": "code",
   "execution_count": 93,
   "metadata": {},
   "outputs": [
    {
     "data": {
      "text/html": [
       "<strong>png:</strong> 2"
      ],
      "text/latex": [
       "\\textbf{png:} 2"
      ],
      "text/markdown": [
       "**png:** 2"
      ],
      "text/plain": [
       "png \n",
       "  2 "
      ]
     },
     "metadata": {},
     "output_type": "display_data"
    }
   ],
   "source": [
    "png(filename='plot5.png')\n",
    "g <- ggplot(aggregated, aes(year, x)) \n",
    "g + geom_point(size = 5, alpha = 1/2) + geom_line( size = 1 , color = 'blue')+ \n",
    "    ggtitle(expression(\"Total Baltimore \" ~ PM[2.5] ~ \"Motor Vehicle Emissions by Year\")) +\n",
    "    ylab(expression(\"Total Baltimore \" ~ PM[2.5] ~ \"Motor Vehicle Emissions\")) +\n",
    "    xlab(\"Year\")\n",
    "dev.off()"
   ]
  },
  {
   "cell_type": "markdown",
   "metadata": {},
   "source": [
    "6. Compare emissions from motor vehicle sources in Baltimore City with emissions from motor vehicle sources in Los Angeles County, California (fips == “06037”). Which city has seen greater changes over time in motor vehicle emissions?"
   ]
  },
  {
   "cell_type": "code",
   "execution_count": 96,
   "metadata": {
    "scrolled": true
   },
   "outputs": [
    {
     "data": {
      "text/html": [
       "<table>\n",
       "<caption>A data.frame: 2097 × 6</caption>\n",
       "<thead>\n",
       "\t<tr><th></th><th scope=col>fips</th><th scope=col>SCC</th><th scope=col>Pollutant</th><th scope=col>Emissions</th><th scope=col>type</th><th scope=col>year</th></tr>\n",
       "\t<tr><th></th><th scope=col>&lt;chr&gt;</th><th scope=col>&lt;chr&gt;</th><th scope=col>&lt;chr&gt;</th><th scope=col>&lt;dbl&gt;</th><th scope=col>&lt;chr&gt;</th><th scope=col>&lt;int&gt;</th></tr>\n",
       "</thead>\n",
       "<tbody>\n",
       "\t<tr><th scope=row>114470</th><td>24510</td><td>220100123B</td><td>PM25-PRI</td><td> 7.38</td><td>ON-ROAD</td><td>1999</td></tr>\n",
       "\t<tr><th scope=row>114472</th><td>24510</td><td>220100123T</td><td>PM25-PRI</td><td> 2.78</td><td>ON-ROAD</td><td>1999</td></tr>\n",
       "\t<tr><th scope=row>114477</th><td>24510</td><td>220100123X</td><td>PM25-PRI</td><td>11.76</td><td>ON-ROAD</td><td>1999</td></tr>\n",
       "\t<tr><th scope=row>114479</th><td>24510</td><td>220100125B</td><td>PM25-PRI</td><td> 3.50</td><td>ON-ROAD</td><td>1999</td></tr>\n",
       "\t<tr><th scope=row>114481</th><td>24510</td><td>220100125T</td><td>PM25-PRI</td><td> 1.32</td><td>ON-ROAD</td><td>1999</td></tr>\n",
       "\t<tr><th scope=row>114486</th><td>24510</td><td>220100125X</td><td>PM25-PRI</td><td> 5.58</td><td>ON-ROAD</td><td>1999</td></tr>\n",
       "\t<tr><th scope=row>114488</th><td>24510</td><td>220100127B</td><td>PM25-PRI</td><td> 4.43</td><td>ON-ROAD</td><td>1999</td></tr>\n",
       "\t<tr><th scope=row>114490</th><td>24510</td><td>220100127T</td><td>PM25-PRI</td><td> 1.67</td><td>ON-ROAD</td><td>1999</td></tr>\n",
       "\t<tr><th scope=row>114495</th><td>24510</td><td>220100127X</td><td>PM25-PRI</td><td> 8.41</td><td>ON-ROAD</td><td>1999</td></tr>\n",
       "\t<tr><th scope=row>114497</th><td>24510</td><td>220100129B</td><td>PM25-PRI</td><td> 3.66</td><td>ON-ROAD</td><td>1999</td></tr>\n",
       "\t<tr><th scope=row>114499</th><td>24510</td><td>220100129T</td><td>PM25-PRI</td><td> 1.38</td><td>ON-ROAD</td><td>1999</td></tr>\n",
       "\t<tr><th scope=row>114504</th><td>24510</td><td>220100129X</td><td>PM25-PRI</td><td> 6.94</td><td>ON-ROAD</td><td>1999</td></tr>\n",
       "\t<tr><th scope=row>114506</th><td>24510</td><td>220100131B</td><td>PM25-PRI</td><td> 1.64</td><td>ON-ROAD</td><td>1999</td></tr>\n",
       "\t<tr><th scope=row>114508</th><td>24510</td><td>220100131T</td><td>PM25-PRI</td><td> 0.62</td><td>ON-ROAD</td><td>1999</td></tr>\n",
       "\t<tr><th scope=row>114513</th><td>24510</td><td>220100131X</td><td>PM25-PRI</td><td> 3.11</td><td>ON-ROAD</td><td>1999</td></tr>\n",
       "\t<tr><th scope=row>114515</th><td>24510</td><td>220100133B</td><td>PM25-PRI</td><td> 1.53</td><td>ON-ROAD</td><td>1999</td></tr>\n",
       "\t<tr><th scope=row>114517</th><td>24510</td><td>220100133T</td><td>PM25-PRI</td><td> 0.58</td><td>ON-ROAD</td><td>1999</td></tr>\n",
       "\t<tr><th scope=row>114522</th><td>24510</td><td>220100133X</td><td>PM25-PRI</td><td> 2.89</td><td>ON-ROAD</td><td>1999</td></tr>\n",
       "\t<tr><th scope=row>114524</th><td>24510</td><td>220102023B</td><td>PM25-PRI</td><td> 2.77</td><td>ON-ROAD</td><td>1999</td></tr>\n",
       "\t<tr><th scope=row>114526</th><td>24510</td><td>220102023T</td><td>PM25-PRI</td><td> 1.05</td><td>ON-ROAD</td><td>1999</td></tr>\n",
       "\t<tr><th scope=row>114531</th><td>24510</td><td>220102023X</td><td>PM25-PRI</td><td> 5.96</td><td>ON-ROAD</td><td>1999</td></tr>\n",
       "\t<tr><th scope=row>114533</th><td>24510</td><td>220102025B</td><td>PM25-PRI</td><td> 1.32</td><td>ON-ROAD</td><td>1999</td></tr>\n",
       "\t<tr><th scope=row>114535</th><td>24510</td><td>220102025T</td><td>PM25-PRI</td><td> 0.50</td><td>ON-ROAD</td><td>1999</td></tr>\n",
       "\t<tr><th scope=row>114540</th><td>24510</td><td>220102025X</td><td>PM25-PRI</td><td> 2.83</td><td>ON-ROAD</td><td>1999</td></tr>\n",
       "\t<tr><th scope=row>114542</th><td>24510</td><td>220102027B</td><td>PM25-PRI</td><td> 1.67</td><td>ON-ROAD</td><td>1999</td></tr>\n",
       "\t<tr><th scope=row>114544</th><td>24510</td><td>220102027T</td><td>PM25-PRI</td><td> 0.63</td><td>ON-ROAD</td><td>1999</td></tr>\n",
       "\t<tr><th scope=row>114549</th><td>24510</td><td>220102027X</td><td>PM25-PRI</td><td> 3.77</td><td>ON-ROAD</td><td>1999</td></tr>\n",
       "\t<tr><th scope=row>114551</th><td>24510</td><td>220102029B</td><td>PM25-PRI</td><td> 1.38</td><td>ON-ROAD</td><td>1999</td></tr>\n",
       "\t<tr><th scope=row>114553</th><td>24510</td><td>220102029T</td><td>PM25-PRI</td><td> 0.52</td><td>ON-ROAD</td><td>1999</td></tr>\n",
       "\t<tr><th scope=row>114558</th><td>24510</td><td>220102029X</td><td>PM25-PRI</td><td> 3.11</td><td>ON-ROAD</td><td>1999</td></tr>\n",
       "\t<tr><th scope=row>...</th><td>...</td><td>...</td><td>...</td><td>...</td><td>...</td><td>...</td></tr>\n",
       "\t<tr><th scope=row>44391981</th><td>06037</td><td>2201040110</td><td>PM25-PRI</td><td> 17.7025</td><td>ON-ROAD</td><td>2008</td></tr>\n",
       "\t<tr><th scope=row>44421881</th><td>06037</td><td>2201020110</td><td>PM25-PRI</td><td> 51.8665</td><td>ON-ROAD</td><td>2008</td></tr>\n",
       "\t<tr><th scope=row>44445441</th><td>06037</td><td>2230075330</td><td>PM25-PRI</td><td>  1.1315</td><td>ON-ROAD</td><td>2008</td></tr>\n",
       "\t<tr><th scope=row>44462631</th><td>06037</td><td>2230001110</td><td>PM25-PRI</td><td>  0.1825</td><td>ON-ROAD</td><td>2008</td></tr>\n",
       "\t<tr><th scope=row>44463961</th><td>06037</td><td>2201070330</td><td>PM25-PRI</td><td>  0.1095</td><td>ON-ROAD</td><td>2008</td></tr>\n",
       "\t<tr><th scope=row>44464141</th><td>06037</td><td>2201040110</td><td>PM25-PRI</td><td>222.4310</td><td>ON-ROAD</td><td>2008</td></tr>\n",
       "\t<tr><th scope=row>44469581</th><td>06037</td><td>2201040110</td><td>PM25-PRI</td><td> 47.5960</td><td>ON-ROAD</td><td>2008</td></tr>\n",
       "\t<tr><th scope=row>44499841</th><td>06037</td><td>2201070330</td><td>PM25-PRI</td><td>  0.0365</td><td>ON-ROAD</td><td>2008</td></tr>\n",
       "\t<tr><th scope=row>44566581</th><td>06037</td><td>2201001110</td><td>PM25-PRI</td><td> 92.9655</td><td>ON-ROAD</td><td>2008</td></tr>\n",
       "\t<tr><th scope=row>44609571</th><td>06037</td><td>2230072110</td><td>PM25-PRI</td><td>  5.8400</td><td>ON-ROAD</td><td>2008</td></tr>\n",
       "\t<tr><th scope=row>44625451</th><td>06037</td><td>2230060110</td><td>PM25-PRI</td><td> 12.4830</td><td>ON-ROAD</td><td>2008</td></tr>\n",
       "\t<tr><th scope=row>44645681</th><td>06037</td><td>2230001110</td><td>PM25-PRI</td><td> 13.3225</td><td>ON-ROAD</td><td>2008</td></tr>\n",
       "\t<tr><th scope=row>44663071</th><td>06037</td><td>2201070230</td><td>PM25-PRI</td><td>  1.1315</td><td>ON-ROAD</td><td>2008</td></tr>\n",
       "\t<tr><th scope=row>44705571</th><td>06037</td><td>2230071110</td><td>PM25-PRI</td><td>  2.5915</td><td>ON-ROAD</td><td>2008</td></tr>\n",
       "\t<tr><th scope=row>44765181</th><td>06037</td><td>2201070230</td><td>PM25-PRI</td><td>  1.3140</td><td>ON-ROAD</td><td>2008</td></tr>\n",
       "\t<tr><th scope=row>44822871</th><td>06037</td><td>2201080110</td><td>PM25-PRI</td><td> 14.3445</td><td>ON-ROAD</td><td>2008</td></tr>\n",
       "\t<tr><th scope=row>44824851</th><td>06037</td><td>2230075330</td><td>PM25-PRI</td><td>  0.4745</td><td>ON-ROAD</td><td>2008</td></tr>\n",
       "\t<tr><th scope=row>44833981</th><td>06037</td><td>2201080110</td><td>PM25-PRI</td><td>  0.4015</td><td>ON-ROAD</td><td>2008</td></tr>\n",
       "\t<tr><th scope=row>44842611</th><td>06037</td><td>2201080110</td><td>PM25-PRI</td><td>  1.0950</td><td>ON-ROAD</td><td>2008</td></tr>\n",
       "\t<tr><th scope=row>44918361</th><td>06037</td><td>2230075230</td><td>PM25-PRI</td><td> 15.4760</td><td>ON-ROAD</td><td>2008</td></tr>\n",
       "\t<tr><th scope=row>44921381</th><td>06037</td><td>2230071110</td><td>PM25-PRI</td><td>  1.4600</td><td>ON-ROAD</td><td>2008</td></tr>\n",
       "\t<tr><th scope=row>44998331</th><td>06037</td><td>2201070330</td><td>PM25-PRI</td><td>  0.0365</td><td>ON-ROAD</td><td>2008</td></tr>\n",
       "\t<tr><th scope=row>45009181</th><td>06037</td><td>2230074110</td><td>PM25-PRI</td><td> 16.9360</td><td>ON-ROAD</td><td>2008</td></tr>\n",
       "\t<tr><th scope=row>45036771</th><td>06037</td><td>2230001110</td><td>PM25-PRI</td><td>  0.5110</td><td>ON-ROAD</td><td>2008</td></tr>\n",
       "\t<tr><th scope=row>45114301</th><td>06037</td><td>2201020110</td><td>PM25-PRI</td><td>139.4660</td><td>ON-ROAD</td><td>2008</td></tr>\n",
       "\t<tr><th scope=row>45168821</th><td>06037</td><td>2201070110</td><td>PM25-PRI</td><td>  6.1685</td><td>ON-ROAD</td><td>2008</td></tr>\n",
       "\t<tr><th scope=row>45208141</th><td>06037</td><td>2230072110</td><td>PM25-PRI</td><td>269.5160</td><td>ON-ROAD</td><td>2008</td></tr>\n",
       "\t<tr><th scope=row>45232211</th><td>06037</td><td>2201070230</td><td>PM25-PRI</td><td>  0.7300</td><td>ON-ROAD</td><td>2008</td></tr>\n",
       "\t<tr><th scope=row>45234671</th><td>06037</td><td>2201070110</td><td>PM25-PRI</td><td> 24.9295</td><td>ON-ROAD</td><td>2008</td></tr>\n",
       "\t<tr><th scope=row>45282491</th><td>06037</td><td>2201070110</td><td>PM25-PRI</td><td> 11.8260</td><td>ON-ROAD</td><td>2008</td></tr>\n",
       "</tbody>\n",
       "</table>\n"
      ],
      "text/latex": [
       "A data.frame: 2097 × 6\n",
       "\\begin{tabular}{r|llllll}\n",
       "  & fips & SCC & Pollutant & Emissions & type & year\\\\\n",
       "  & <chr> & <chr> & <chr> & <dbl> & <chr> & <int>\\\\\n",
       "\\hline\n",
       "\t114470 & 24510 & 220100123B & PM25-PRI &  7.38 & ON-ROAD & 1999\\\\\n",
       "\t114472 & 24510 & 220100123T & PM25-PRI &  2.78 & ON-ROAD & 1999\\\\\n",
       "\t114477 & 24510 & 220100123X & PM25-PRI & 11.76 & ON-ROAD & 1999\\\\\n",
       "\t114479 & 24510 & 220100125B & PM25-PRI &  3.50 & ON-ROAD & 1999\\\\\n",
       "\t114481 & 24510 & 220100125T & PM25-PRI &  1.32 & ON-ROAD & 1999\\\\\n",
       "\t114486 & 24510 & 220100125X & PM25-PRI &  5.58 & ON-ROAD & 1999\\\\\n",
       "\t114488 & 24510 & 220100127B & PM25-PRI &  4.43 & ON-ROAD & 1999\\\\\n",
       "\t114490 & 24510 & 220100127T & PM25-PRI &  1.67 & ON-ROAD & 1999\\\\\n",
       "\t114495 & 24510 & 220100127X & PM25-PRI &  8.41 & ON-ROAD & 1999\\\\\n",
       "\t114497 & 24510 & 220100129B & PM25-PRI &  3.66 & ON-ROAD & 1999\\\\\n",
       "\t114499 & 24510 & 220100129T & PM25-PRI &  1.38 & ON-ROAD & 1999\\\\\n",
       "\t114504 & 24510 & 220100129X & PM25-PRI &  6.94 & ON-ROAD & 1999\\\\\n",
       "\t114506 & 24510 & 220100131B & PM25-PRI &  1.64 & ON-ROAD & 1999\\\\\n",
       "\t114508 & 24510 & 220100131T & PM25-PRI &  0.62 & ON-ROAD & 1999\\\\\n",
       "\t114513 & 24510 & 220100131X & PM25-PRI &  3.11 & ON-ROAD & 1999\\\\\n",
       "\t114515 & 24510 & 220100133B & PM25-PRI &  1.53 & ON-ROAD & 1999\\\\\n",
       "\t114517 & 24510 & 220100133T & PM25-PRI &  0.58 & ON-ROAD & 1999\\\\\n",
       "\t114522 & 24510 & 220100133X & PM25-PRI &  2.89 & ON-ROAD & 1999\\\\\n",
       "\t114524 & 24510 & 220102023B & PM25-PRI &  2.77 & ON-ROAD & 1999\\\\\n",
       "\t114526 & 24510 & 220102023T & PM25-PRI &  1.05 & ON-ROAD & 1999\\\\\n",
       "\t114531 & 24510 & 220102023X & PM25-PRI &  5.96 & ON-ROAD & 1999\\\\\n",
       "\t114533 & 24510 & 220102025B & PM25-PRI &  1.32 & ON-ROAD & 1999\\\\\n",
       "\t114535 & 24510 & 220102025T & PM25-PRI &  0.50 & ON-ROAD & 1999\\\\\n",
       "\t114540 & 24510 & 220102025X & PM25-PRI &  2.83 & ON-ROAD & 1999\\\\\n",
       "\t114542 & 24510 & 220102027B & PM25-PRI &  1.67 & ON-ROAD & 1999\\\\\n",
       "\t114544 & 24510 & 220102027T & PM25-PRI &  0.63 & ON-ROAD & 1999\\\\\n",
       "\t114549 & 24510 & 220102027X & PM25-PRI &  3.77 & ON-ROAD & 1999\\\\\n",
       "\t114551 & 24510 & 220102029B & PM25-PRI &  1.38 & ON-ROAD & 1999\\\\\n",
       "\t114553 & 24510 & 220102029T & PM25-PRI &  0.52 & ON-ROAD & 1999\\\\\n",
       "\t114558 & 24510 & 220102029X & PM25-PRI &  3.11 & ON-ROAD & 1999\\\\\n",
       "\t... & ... & ... & ... & ... & ... & ...\\\\\n",
       "\t44391981 & 06037 & 2201040110 & PM25-PRI &  17.7025 & ON-ROAD & 2008\\\\\n",
       "\t44421881 & 06037 & 2201020110 & PM25-PRI &  51.8665 & ON-ROAD & 2008\\\\\n",
       "\t44445441 & 06037 & 2230075330 & PM25-PRI &   1.1315 & ON-ROAD & 2008\\\\\n",
       "\t44462631 & 06037 & 2230001110 & PM25-PRI &   0.1825 & ON-ROAD & 2008\\\\\n",
       "\t44463961 & 06037 & 2201070330 & PM25-PRI &   0.1095 & ON-ROAD & 2008\\\\\n",
       "\t44464141 & 06037 & 2201040110 & PM25-PRI & 222.4310 & ON-ROAD & 2008\\\\\n",
       "\t44469581 & 06037 & 2201040110 & PM25-PRI &  47.5960 & ON-ROAD & 2008\\\\\n",
       "\t44499841 & 06037 & 2201070330 & PM25-PRI &   0.0365 & ON-ROAD & 2008\\\\\n",
       "\t44566581 & 06037 & 2201001110 & PM25-PRI &  92.9655 & ON-ROAD & 2008\\\\\n",
       "\t44609571 & 06037 & 2230072110 & PM25-PRI &   5.8400 & ON-ROAD & 2008\\\\\n",
       "\t44625451 & 06037 & 2230060110 & PM25-PRI &  12.4830 & ON-ROAD & 2008\\\\\n",
       "\t44645681 & 06037 & 2230001110 & PM25-PRI &  13.3225 & ON-ROAD & 2008\\\\\n",
       "\t44663071 & 06037 & 2201070230 & PM25-PRI &   1.1315 & ON-ROAD & 2008\\\\\n",
       "\t44705571 & 06037 & 2230071110 & PM25-PRI &   2.5915 & ON-ROAD & 2008\\\\\n",
       "\t44765181 & 06037 & 2201070230 & PM25-PRI &   1.3140 & ON-ROAD & 2008\\\\\n",
       "\t44822871 & 06037 & 2201080110 & PM25-PRI &  14.3445 & ON-ROAD & 2008\\\\\n",
       "\t44824851 & 06037 & 2230075330 & PM25-PRI &   0.4745 & ON-ROAD & 2008\\\\\n",
       "\t44833981 & 06037 & 2201080110 & PM25-PRI &   0.4015 & ON-ROAD & 2008\\\\\n",
       "\t44842611 & 06037 & 2201080110 & PM25-PRI &   1.0950 & ON-ROAD & 2008\\\\\n",
       "\t44918361 & 06037 & 2230075230 & PM25-PRI &  15.4760 & ON-ROAD & 2008\\\\\n",
       "\t44921381 & 06037 & 2230071110 & PM25-PRI &   1.4600 & ON-ROAD & 2008\\\\\n",
       "\t44998331 & 06037 & 2201070330 & PM25-PRI &   0.0365 & ON-ROAD & 2008\\\\\n",
       "\t45009181 & 06037 & 2230074110 & PM25-PRI &  16.9360 & ON-ROAD & 2008\\\\\n",
       "\t45036771 & 06037 & 2230001110 & PM25-PRI &   0.5110 & ON-ROAD & 2008\\\\\n",
       "\t45114301 & 06037 & 2201020110 & PM25-PRI & 139.4660 & ON-ROAD & 2008\\\\\n",
       "\t45168821 & 06037 & 2201070110 & PM25-PRI &   6.1685 & ON-ROAD & 2008\\\\\n",
       "\t45208141 & 06037 & 2230072110 & PM25-PRI & 269.5160 & ON-ROAD & 2008\\\\\n",
       "\t45232211 & 06037 & 2201070230 & PM25-PRI &   0.7300 & ON-ROAD & 2008\\\\\n",
       "\t45234671 & 06037 & 2201070110 & PM25-PRI &  24.9295 & ON-ROAD & 2008\\\\\n",
       "\t45282491 & 06037 & 2201070110 & PM25-PRI &  11.8260 & ON-ROAD & 2008\\\\\n",
       "\\end{tabular}\n"
      ],
      "text/markdown": [
       "\n",
       "A data.frame: 2097 × 6\n",
       "\n",
       "| <!--/--> | fips &lt;chr&gt; | SCC &lt;chr&gt; | Pollutant &lt;chr&gt; | Emissions &lt;dbl&gt; | type &lt;chr&gt; | year &lt;int&gt; |\n",
       "|---|---|---|---|---|---|---|\n",
       "| 114470 | 24510 | 220100123B | PM25-PRI |  7.38 | ON-ROAD | 1999 |\n",
       "| 114472 | 24510 | 220100123T | PM25-PRI |  2.78 | ON-ROAD | 1999 |\n",
       "| 114477 | 24510 | 220100123X | PM25-PRI | 11.76 | ON-ROAD | 1999 |\n",
       "| 114479 | 24510 | 220100125B | PM25-PRI |  3.50 | ON-ROAD | 1999 |\n",
       "| 114481 | 24510 | 220100125T | PM25-PRI |  1.32 | ON-ROAD | 1999 |\n",
       "| 114486 | 24510 | 220100125X | PM25-PRI |  5.58 | ON-ROAD | 1999 |\n",
       "| 114488 | 24510 | 220100127B | PM25-PRI |  4.43 | ON-ROAD | 1999 |\n",
       "| 114490 | 24510 | 220100127T | PM25-PRI |  1.67 | ON-ROAD | 1999 |\n",
       "| 114495 | 24510 | 220100127X | PM25-PRI |  8.41 | ON-ROAD | 1999 |\n",
       "| 114497 | 24510 | 220100129B | PM25-PRI |  3.66 | ON-ROAD | 1999 |\n",
       "| 114499 | 24510 | 220100129T | PM25-PRI |  1.38 | ON-ROAD | 1999 |\n",
       "| 114504 | 24510 | 220100129X | PM25-PRI |  6.94 | ON-ROAD | 1999 |\n",
       "| 114506 | 24510 | 220100131B | PM25-PRI |  1.64 | ON-ROAD | 1999 |\n",
       "| 114508 | 24510 | 220100131T | PM25-PRI |  0.62 | ON-ROAD | 1999 |\n",
       "| 114513 | 24510 | 220100131X | PM25-PRI |  3.11 | ON-ROAD | 1999 |\n",
       "| 114515 | 24510 | 220100133B | PM25-PRI |  1.53 | ON-ROAD | 1999 |\n",
       "| 114517 | 24510 | 220100133T | PM25-PRI |  0.58 | ON-ROAD | 1999 |\n",
       "| 114522 | 24510 | 220100133X | PM25-PRI |  2.89 | ON-ROAD | 1999 |\n",
       "| 114524 | 24510 | 220102023B | PM25-PRI |  2.77 | ON-ROAD | 1999 |\n",
       "| 114526 | 24510 | 220102023T | PM25-PRI |  1.05 | ON-ROAD | 1999 |\n",
       "| 114531 | 24510 | 220102023X | PM25-PRI |  5.96 | ON-ROAD | 1999 |\n",
       "| 114533 | 24510 | 220102025B | PM25-PRI |  1.32 | ON-ROAD | 1999 |\n",
       "| 114535 | 24510 | 220102025T | PM25-PRI |  0.50 | ON-ROAD | 1999 |\n",
       "| 114540 | 24510 | 220102025X | PM25-PRI |  2.83 | ON-ROAD | 1999 |\n",
       "| 114542 | 24510 | 220102027B | PM25-PRI |  1.67 | ON-ROAD | 1999 |\n",
       "| 114544 | 24510 | 220102027T | PM25-PRI |  0.63 | ON-ROAD | 1999 |\n",
       "| 114549 | 24510 | 220102027X | PM25-PRI |  3.77 | ON-ROAD | 1999 |\n",
       "| 114551 | 24510 | 220102029B | PM25-PRI |  1.38 | ON-ROAD | 1999 |\n",
       "| 114553 | 24510 | 220102029T | PM25-PRI |  0.52 | ON-ROAD | 1999 |\n",
       "| 114558 | 24510 | 220102029X | PM25-PRI |  3.11 | ON-ROAD | 1999 |\n",
       "| ... | ... | ... | ... | ... | ... | ... |\n",
       "| 44391981 | 06037 | 2201040110 | PM25-PRI |  17.7025 | ON-ROAD | 2008 |\n",
       "| 44421881 | 06037 | 2201020110 | PM25-PRI |  51.8665 | ON-ROAD | 2008 |\n",
       "| 44445441 | 06037 | 2230075330 | PM25-PRI |   1.1315 | ON-ROAD | 2008 |\n",
       "| 44462631 | 06037 | 2230001110 | PM25-PRI |   0.1825 | ON-ROAD | 2008 |\n",
       "| 44463961 | 06037 | 2201070330 | PM25-PRI |   0.1095 | ON-ROAD | 2008 |\n",
       "| 44464141 | 06037 | 2201040110 | PM25-PRI | 222.4310 | ON-ROAD | 2008 |\n",
       "| 44469581 | 06037 | 2201040110 | PM25-PRI |  47.5960 | ON-ROAD | 2008 |\n",
       "| 44499841 | 06037 | 2201070330 | PM25-PRI |   0.0365 | ON-ROAD | 2008 |\n",
       "| 44566581 | 06037 | 2201001110 | PM25-PRI |  92.9655 | ON-ROAD | 2008 |\n",
       "| 44609571 | 06037 | 2230072110 | PM25-PRI |   5.8400 | ON-ROAD | 2008 |\n",
       "| 44625451 | 06037 | 2230060110 | PM25-PRI |  12.4830 | ON-ROAD | 2008 |\n",
       "| 44645681 | 06037 | 2230001110 | PM25-PRI |  13.3225 | ON-ROAD | 2008 |\n",
       "| 44663071 | 06037 | 2201070230 | PM25-PRI |   1.1315 | ON-ROAD | 2008 |\n",
       "| 44705571 | 06037 | 2230071110 | PM25-PRI |   2.5915 | ON-ROAD | 2008 |\n",
       "| 44765181 | 06037 | 2201070230 | PM25-PRI |   1.3140 | ON-ROAD | 2008 |\n",
       "| 44822871 | 06037 | 2201080110 | PM25-PRI |  14.3445 | ON-ROAD | 2008 |\n",
       "| 44824851 | 06037 | 2230075330 | PM25-PRI |   0.4745 | ON-ROAD | 2008 |\n",
       "| 44833981 | 06037 | 2201080110 | PM25-PRI |   0.4015 | ON-ROAD | 2008 |\n",
       "| 44842611 | 06037 | 2201080110 | PM25-PRI |   1.0950 | ON-ROAD | 2008 |\n",
       "| 44918361 | 06037 | 2230075230 | PM25-PRI |  15.4760 | ON-ROAD | 2008 |\n",
       "| 44921381 | 06037 | 2230071110 | PM25-PRI |   1.4600 | ON-ROAD | 2008 |\n",
       "| 44998331 | 06037 | 2201070330 | PM25-PRI |   0.0365 | ON-ROAD | 2008 |\n",
       "| 45009181 | 06037 | 2230074110 | PM25-PRI |  16.9360 | ON-ROAD | 2008 |\n",
       "| 45036771 | 06037 | 2230001110 | PM25-PRI |   0.5110 | ON-ROAD | 2008 |\n",
       "| 45114301 | 06037 | 2201020110 | PM25-PRI | 139.4660 | ON-ROAD | 2008 |\n",
       "| 45168821 | 06037 | 2201070110 | PM25-PRI |   6.1685 | ON-ROAD | 2008 |\n",
       "| 45208141 | 06037 | 2230072110 | PM25-PRI | 269.5160 | ON-ROAD | 2008 |\n",
       "| 45232211 | 06037 | 2201070230 | PM25-PRI |   0.7300 | ON-ROAD | 2008 |\n",
       "| 45234671 | 06037 | 2201070110 | PM25-PRI |  24.9295 | ON-ROAD | 2008 |\n",
       "| 45282491 | 06037 | 2201070110 | PM25-PRI |  11.8260 | ON-ROAD | 2008 |\n",
       "\n"
      ],
      "text/plain": [
       "         fips  SCC        Pollutant Emissions type    year\n",
       "114470   24510 220100123B PM25-PRI   7.38     ON-ROAD 1999\n",
       "114472   24510 220100123T PM25-PRI   2.78     ON-ROAD 1999\n",
       "114477   24510 220100123X PM25-PRI  11.76     ON-ROAD 1999\n",
       "114479   24510 220100125B PM25-PRI   3.50     ON-ROAD 1999\n",
       "114481   24510 220100125T PM25-PRI   1.32     ON-ROAD 1999\n",
       "114486   24510 220100125X PM25-PRI   5.58     ON-ROAD 1999\n",
       "114488   24510 220100127B PM25-PRI   4.43     ON-ROAD 1999\n",
       "114490   24510 220100127T PM25-PRI   1.67     ON-ROAD 1999\n",
       "114495   24510 220100127X PM25-PRI   8.41     ON-ROAD 1999\n",
       "114497   24510 220100129B PM25-PRI   3.66     ON-ROAD 1999\n",
       "114499   24510 220100129T PM25-PRI   1.38     ON-ROAD 1999\n",
       "114504   24510 220100129X PM25-PRI   6.94     ON-ROAD 1999\n",
       "114506   24510 220100131B PM25-PRI   1.64     ON-ROAD 1999\n",
       "114508   24510 220100131T PM25-PRI   0.62     ON-ROAD 1999\n",
       "114513   24510 220100131X PM25-PRI   3.11     ON-ROAD 1999\n",
       "114515   24510 220100133B PM25-PRI   1.53     ON-ROAD 1999\n",
       "114517   24510 220100133T PM25-PRI   0.58     ON-ROAD 1999\n",
       "114522   24510 220100133X PM25-PRI   2.89     ON-ROAD 1999\n",
       "114524   24510 220102023B PM25-PRI   2.77     ON-ROAD 1999\n",
       "114526   24510 220102023T PM25-PRI   1.05     ON-ROAD 1999\n",
       "114531   24510 220102023X PM25-PRI   5.96     ON-ROAD 1999\n",
       "114533   24510 220102025B PM25-PRI   1.32     ON-ROAD 1999\n",
       "114535   24510 220102025T PM25-PRI   0.50     ON-ROAD 1999\n",
       "114540   24510 220102025X PM25-PRI   2.83     ON-ROAD 1999\n",
       "114542   24510 220102027B PM25-PRI   1.67     ON-ROAD 1999\n",
       "114544   24510 220102027T PM25-PRI   0.63     ON-ROAD 1999\n",
       "114549   24510 220102027X PM25-PRI   3.77     ON-ROAD 1999\n",
       "114551   24510 220102029B PM25-PRI   1.38     ON-ROAD 1999\n",
       "114553   24510 220102029T PM25-PRI   0.52     ON-ROAD 1999\n",
       "114558   24510 220102029X PM25-PRI   3.11     ON-ROAD 1999\n",
       "...      ...   ...        ...       ...       ...     ... \n",
       "44391981 06037 2201040110 PM25-PRI   17.7025  ON-ROAD 2008\n",
       "44421881 06037 2201020110 PM25-PRI   51.8665  ON-ROAD 2008\n",
       "44445441 06037 2230075330 PM25-PRI    1.1315  ON-ROAD 2008\n",
       "44462631 06037 2230001110 PM25-PRI    0.1825  ON-ROAD 2008\n",
       "44463961 06037 2201070330 PM25-PRI    0.1095  ON-ROAD 2008\n",
       "44464141 06037 2201040110 PM25-PRI  222.4310  ON-ROAD 2008\n",
       "44469581 06037 2201040110 PM25-PRI   47.5960  ON-ROAD 2008\n",
       "44499841 06037 2201070330 PM25-PRI    0.0365  ON-ROAD 2008\n",
       "44566581 06037 2201001110 PM25-PRI   92.9655  ON-ROAD 2008\n",
       "44609571 06037 2230072110 PM25-PRI    5.8400  ON-ROAD 2008\n",
       "44625451 06037 2230060110 PM25-PRI   12.4830  ON-ROAD 2008\n",
       "44645681 06037 2230001110 PM25-PRI   13.3225  ON-ROAD 2008\n",
       "44663071 06037 2201070230 PM25-PRI    1.1315  ON-ROAD 2008\n",
       "44705571 06037 2230071110 PM25-PRI    2.5915  ON-ROAD 2008\n",
       "44765181 06037 2201070230 PM25-PRI    1.3140  ON-ROAD 2008\n",
       "44822871 06037 2201080110 PM25-PRI   14.3445  ON-ROAD 2008\n",
       "44824851 06037 2230075330 PM25-PRI    0.4745  ON-ROAD 2008\n",
       "44833981 06037 2201080110 PM25-PRI    0.4015  ON-ROAD 2008\n",
       "44842611 06037 2201080110 PM25-PRI    1.0950  ON-ROAD 2008\n",
       "44918361 06037 2230075230 PM25-PRI   15.4760  ON-ROAD 2008\n",
       "44921381 06037 2230071110 PM25-PRI    1.4600  ON-ROAD 2008\n",
       "44998331 06037 2201070330 PM25-PRI    0.0365  ON-ROAD 2008\n",
       "45009181 06037 2230074110 PM25-PRI   16.9360  ON-ROAD 2008\n",
       "45036771 06037 2230001110 PM25-PRI    0.5110  ON-ROAD 2008\n",
       "45114301 06037 2201020110 PM25-PRI  139.4660  ON-ROAD 2008\n",
       "45168821 06037 2201070110 PM25-PRI    6.1685  ON-ROAD 2008\n",
       "45208141 06037 2230072110 PM25-PRI  269.5160  ON-ROAD 2008\n",
       "45232211 06037 2201070230 PM25-PRI    0.7300  ON-ROAD 2008\n",
       "45234671 06037 2201070110 PM25-PRI   24.9295  ON-ROAD 2008\n",
       "45282491 06037 2201070110 PM25-PRI   11.8260  ON-ROAD 2008"
      ]
     },
     "metadata": {},
     "output_type": "display_data"
    }
   ],
   "source": [
    "twociteis <- subset(NEI, NEI$fips %in% c(\"24510\",\"06037\") & NEI$type == \"ON-ROAD\")\n",
    "twociteis"
   ]
  },
  {
   "cell_type": "code",
   "execution_count": 98,
   "metadata": {},
   "outputs": [
    {
     "data": {
      "text/html": [
       "<table>\n",
       "<caption>A data.frame: 8 × 3</caption>\n",
       "<thead>\n",
       "\t<tr><th scope=col>year</th><th scope=col>city</th><th scope=col>x</th></tr>\n",
       "\t<tr><th scope=col>&lt;int&gt;</th><th scope=col>&lt;chr&gt;</th><th scope=col>&lt;dbl&gt;</th></tr>\n",
       "</thead>\n",
       "<tbody>\n",
       "\t<tr><td>1999</td><td>06037</td><td>3931.12000</td></tr>\n",
       "\t<tr><td>2002</td><td>06037</td><td>4273.71020</td></tr>\n",
       "\t<tr><td>2005</td><td>06037</td><td>4601.41493</td></tr>\n",
       "\t<tr><td>2008</td><td>06037</td><td>4101.32100</td></tr>\n",
       "\t<tr><td>1999</td><td>24510</td><td> 346.82000</td></tr>\n",
       "\t<tr><td>2002</td><td>24510</td><td> 134.30882</td></tr>\n",
       "\t<tr><td>2005</td><td>24510</td><td> 130.43038</td></tr>\n",
       "\t<tr><td>2008</td><td>24510</td><td>  88.27546</td></tr>\n",
       "</tbody>\n",
       "</table>\n"
      ],
      "text/latex": [
       "A data.frame: 8 × 3\n",
       "\\begin{tabular}{lll}\n",
       " year & city & x\\\\\n",
       " <int> & <chr> & <dbl>\\\\\n",
       "\\hline\n",
       "\t 1999 & 06037 & 3931.12000\\\\\n",
       "\t 2002 & 06037 & 4273.71020\\\\\n",
       "\t 2005 & 06037 & 4601.41493\\\\\n",
       "\t 2008 & 06037 & 4101.32100\\\\\n",
       "\t 1999 & 24510 &  346.82000\\\\\n",
       "\t 2002 & 24510 &  134.30882\\\\\n",
       "\t 2005 & 24510 &  130.43038\\\\\n",
       "\t 2008 & 24510 &   88.27546\\\\\n",
       "\\end{tabular}\n"
      ],
      "text/markdown": [
       "\n",
       "A data.frame: 8 × 3\n",
       "\n",
       "| year &lt;int&gt; | city &lt;chr&gt; | x &lt;dbl&gt; |\n",
       "|---|---|---|\n",
       "| 1999 | 06037 | 3931.12000 |\n",
       "| 2002 | 06037 | 4273.71020 |\n",
       "| 2005 | 06037 | 4601.41493 |\n",
       "| 2008 | 06037 | 4101.32100 |\n",
       "| 1999 | 24510 |  346.82000 |\n",
       "| 2002 | 24510 |  134.30882 |\n",
       "| 2005 | 24510 |  130.43038 |\n",
       "| 2008 | 24510 |   88.27546 |\n",
       "\n"
      ],
      "text/plain": [
       "  year city  x         \n",
       "1 1999 06037 3931.12000\n",
       "2 2002 06037 4273.71020\n",
       "3 2005 06037 4601.41493\n",
       "4 2008 06037 4101.32100\n",
       "5 1999 24510  346.82000\n",
       "6 2002 24510  134.30882\n",
       "7 2005 24510  130.43038\n",
       "8 2008 24510   88.27546"
      ]
     },
     "metadata": {},
     "output_type": "display_data"
    }
   ],
   "source": [
    "aggregated <- aggregate(twociteis$Emissions, by=list(year=twociteis$year ,city=twociteis$fips), FUN=sum)\n",
    "aggregated"
   ]
  },
  {
   "cell_type": "code",
   "execution_count": 100,
   "metadata": {
    "scrolled": false
   },
   "outputs": [
    {
     "data": {
      "image/png": "[encoded data removed]",
      "text/plain": [
       "plot without title"
      ]
     },
     "metadata": {
      "image/png": {
       "height": 420,
       "width": 420
      },
      "text/plain": {
       "height": 420,
       "width": 420
      }
     },
     "output_type": "display_data"
    }
   ],
   "source": [
    "g <- ggplot(aggregated, aes(year, x , group= city)) \n",
    "g + geom_point(aes(color = city), size = 5, alpha = 1/2) + geom_line( size = 1, color = 'green')+ \n",
    "    ggtitle(expression(\"Baltimore and Los Angeles\" ~ PM[2.5] ~ \"Motor Vehicle Emissions by Year\")) +\n",
    "    ylab(expression(~PM[2.5]~ \"Motor Vehicle Emissions\")) +\n",
    "    xlab(\"Year\")"
   ]
  },
  {
   "cell_type": "code",
   "execution_count": 102,
   "metadata": {
    "scrolled": false
   },
   "outputs": [
    {
     "data": {
      "text/html": [
       "<table>\n",
       "<caption>A data.frame: 4 × 2</caption>\n",
       "<thead>\n",
       "\t<tr><th scope=col>year</th><th scope=col>x</th></tr>\n",
       "\t<tr><th scope=col>&lt;int&gt;</th><th scope=col>&lt;dbl&gt;</th></tr>\n",
       "</thead>\n",
       "<tbody>\n",
       "\t<tr><td>1999</td><td>7332967</td></tr>\n",
       "\t<tr><td>2002</td><td>5635780</td></tr>\n",
       "\t<tr><td>2005</td><td>5454703</td></tr>\n",
       "\t<tr><td>2008</td><td>3464206</td></tr>\n",
       "</tbody>\n",
       "</table>\n"
      ],
      "text/latex": [
       "A data.frame: 4 × 2\n",
       "\\begin{tabular}{ll}\n",
       " year & x\\\\\n",
       " <int> & <dbl>\\\\\n",
       "\\hline\n",
       "\t 1999 & 7332967\\\\\n",
       "\t 2002 & 5635780\\\\\n",
       "\t 2005 & 5454703\\\\\n",
       "\t 2008 & 3464206\\\\\n",
       "\\end{tabular}\n"
      ],
      "text/markdown": [
       "\n",
       "A data.frame: 4 × 2\n",
       "\n",
       "| year &lt;int&gt; | x &lt;dbl&gt; |\n",
       "|---|---|\n",
       "| 1999 | 7332967 |\n",
       "| 2002 | 5635780 |\n",
       "| 2005 | 5454703 |\n",
       "| 2008 | 3464206 |\n",
       "\n"
      ],
      "text/plain": [
       "  year x      \n",
       "1 1999 7332967\n",
       "2 2002 5635780\n",
       "3 2005 5454703\n",
       "4 2008 3464206"
      ]
     },
     "metadata": {},
     "output_type": "display_data"
    },
    {
     "data": {
      "text/html": [
       "<strong>png:</strong> 2"
      ],
      "text/latex": [
       "\\textbf{png:} 2"
      ],
      "text/markdown": [
       "**png:** 2"
      ],
      "text/plain": [
       "png \n",
       "  2 "
      ]
     },
     "metadata": {},
     "output_type": "display_data"
    }
   ],
   "source": [
    "aggregated1 <- aggregate(NEI$Emissions, by=list(year=NEI$year), FUN=sum)\n",
    "aggregated1\n",
    "\n",
    "png(filename='plot1.png')\n",
    "\n",
    "plot(aggregated1$year, aggregated1$x, type = \"l\", col = \"red\"\n",
    "     , main = expression(\"Total US \"~ PM[2.5]~ \"Emissions by Year\")\n",
    "     , ylab = expression(\"Total US \"~   PM[2.5] ~ \"Emissions\")\n",
    "     , xlab = \"Year\")\n",
    "\n",
    "dev.off()"
   ]
  },
  {
   "cell_type": "code",
   "execution_count": 104,
   "metadata": {},
   "outputs": [
    {
     "data": {
      "text/html": [
       "<table>\n",
       "<caption>A data.frame: 4 × 2</caption>\n",
       "<thead>\n",
       "\t<tr><th scope=col>year</th><th scope=col>x</th></tr>\n",
       "\t<tr><th scope=col>&lt;int&gt;</th><th scope=col>&lt;dbl&gt;</th></tr>\n",
       "</thead>\n",
       "<tbody>\n",
       "\t<tr><td>1999</td><td>3274.180</td></tr>\n",
       "\t<tr><td>2002</td><td>2453.916</td></tr>\n",
       "\t<tr><td>2005</td><td>3091.354</td></tr>\n",
       "\t<tr><td>2008</td><td>1862.282</td></tr>\n",
       "</tbody>\n",
       "</table>\n"
      ],
      "text/latex": [
       "A data.frame: 4 × 2\n",
       "\\begin{tabular}{ll}\n",
       " year & x\\\\\n",
       " <int> & <dbl>\\\\\n",
       "\\hline\n",
       "\t 1999 & 3274.180\\\\\n",
       "\t 2002 & 2453.916\\\\\n",
       "\t 2005 & 3091.354\\\\\n",
       "\t 2008 & 1862.282\\\\\n",
       "\\end{tabular}\n"
      ],
      "text/markdown": [
       "\n",
       "A data.frame: 4 × 2\n",
       "\n",
       "| year &lt;int&gt; | x &lt;dbl&gt; |\n",
       "|---|---|\n",
       "| 1999 | 3274.180 |\n",
       "| 2002 | 2453.916 |\n",
       "| 2005 | 3091.354 |\n",
       "| 2008 | 1862.282 |\n",
       "\n"
      ],
      "text/plain": [
       "  year x       \n",
       "1 1999 3274.180\n",
       "2 2002 2453.916\n",
       "3 2005 3091.354\n",
       "4 2008 1862.282"
      ]
     },
     "metadata": {},
     "output_type": "display_data"
    },
    {
     "data": {
      "text/html": [
       "<strong>png:</strong> 2"
      ],
      "text/latex": [
       "\\textbf{png:} 2"
      ],
      "text/markdown": [
       "**png:** 2"
      ],
      "text/plain": [
       "png \n",
       "  2 "
      ]
     },
     "metadata": {},
     "output_type": "display_data"
    }
   ],
   "source": [
    "forbaltimore <- subset(NEI , NEI$fips == \"24510\")\n",
    "\n",
    "aggregated2 <- aggregate(forbaltimore$Emissions, by=list(year=forbaltimore$year), FUN=sum)\n",
    "aggregated2\n",
    "\n",
    "png(filename='plot2.png')\n",
    "plot(aggregated2$year, aggregated2$x, type = \"l\", col = \"red\"\n",
    "     , main = expression(\"Total Baltimore\" ~ PM[2.5] ~ \"Emissions by Year\")\n",
    "     , ylab = expression(\"Total Baltimore  \"~   PM[2.5] ~ \"Emissions\")\n",
    "     , xlab = \"Year\")\n",
    "\n",
    "dev.off()"
   ]
  },
  {
   "cell_type": "code",
   "execution_count": 105,
   "metadata": {
    "scrolled": true
   },
   "outputs": [
    {
     "data": {
      "text/html": [
       "<table>\n",
       "<caption>A data.frame: 16 × 3</caption>\n",
       "<thead>\n",
       "\t<tr><th scope=col>year</th><th scope=col>type</th><th scope=col>x</th></tr>\n",
       "\t<tr><th scope=col>&lt;int&gt;</th><th scope=col>&lt;chr&gt;</th><th scope=col>&lt;dbl&gt;</th></tr>\n",
       "</thead>\n",
       "<tbody>\n",
       "\t<tr><td>1999</td><td>NON-ROAD</td><td> 522.94000</td></tr>\n",
       "\t<tr><td>2002</td><td>NON-ROAD</td><td> 240.84692</td></tr>\n",
       "\t<tr><td>2005</td><td>NON-ROAD</td><td> 248.93369</td></tr>\n",
       "\t<tr><td>2008</td><td>NON-ROAD</td><td>  55.82356</td></tr>\n",
       "\t<tr><td>1999</td><td>NONPOINT</td><td>2107.62500</td></tr>\n",
       "\t<tr><td>2002</td><td>NONPOINT</td><td>1509.50000</td></tr>\n",
       "\t<tr><td>2005</td><td>NONPOINT</td><td>1509.50000</td></tr>\n",
       "\t<tr><td>2008</td><td>NONPOINT</td><td>1373.20731</td></tr>\n",
       "\t<tr><td>1999</td><td>ON-ROAD </td><td> 346.82000</td></tr>\n",
       "\t<tr><td>2002</td><td>ON-ROAD </td><td> 134.30882</td></tr>\n",
       "\t<tr><td>2005</td><td>ON-ROAD </td><td> 130.43038</td></tr>\n",
       "\t<tr><td>2008</td><td>ON-ROAD </td><td>  88.27546</td></tr>\n",
       "\t<tr><td>1999</td><td>POINT   </td><td> 296.79500</td></tr>\n",
       "\t<tr><td>2002</td><td>POINT   </td><td> 569.26000</td></tr>\n",
       "\t<tr><td>2005</td><td>POINT   </td><td>1202.49000</td></tr>\n",
       "\t<tr><td>2008</td><td>POINT   </td><td> 344.97518</td></tr>\n",
       "</tbody>\n",
       "</table>\n"
      ],
      "text/latex": [
       "A data.frame: 16 × 3\n",
       "\\begin{tabular}{lll}\n",
       " year & type & x\\\\\n",
       " <int> & <chr> & <dbl>\\\\\n",
       "\\hline\n",
       "\t 1999 & NON-ROAD &  522.94000\\\\\n",
       "\t 2002 & NON-ROAD &  240.84692\\\\\n",
       "\t 2005 & NON-ROAD &  248.93369\\\\\n",
       "\t 2008 & NON-ROAD &   55.82356\\\\\n",
       "\t 1999 & NONPOINT & 2107.62500\\\\\n",
       "\t 2002 & NONPOINT & 1509.50000\\\\\n",
       "\t 2005 & NONPOINT & 1509.50000\\\\\n",
       "\t 2008 & NONPOINT & 1373.20731\\\\\n",
       "\t 1999 & ON-ROAD  &  346.82000\\\\\n",
       "\t 2002 & ON-ROAD  &  134.30882\\\\\n",
       "\t 2005 & ON-ROAD  &  130.43038\\\\\n",
       "\t 2008 & ON-ROAD  &   88.27546\\\\\n",
       "\t 1999 & POINT    &  296.79500\\\\\n",
       "\t 2002 & POINT    &  569.26000\\\\\n",
       "\t 2005 & POINT    & 1202.49000\\\\\n",
       "\t 2008 & POINT    &  344.97518\\\\\n",
       "\\end{tabular}\n"
      ],
      "text/markdown": [
       "\n",
       "A data.frame: 16 × 3\n",
       "\n",
       "| year &lt;int&gt; | type &lt;chr&gt; | x &lt;dbl&gt; |\n",
       "|---|---|---|\n",
       "| 1999 | NON-ROAD |  522.94000 |\n",
       "| 2002 | NON-ROAD |  240.84692 |\n",
       "| 2005 | NON-ROAD |  248.93369 |\n",
       "| 2008 | NON-ROAD |   55.82356 |\n",
       "| 1999 | NONPOINT | 2107.62500 |\n",
       "| 2002 | NONPOINT | 1509.50000 |\n",
       "| 2005 | NONPOINT | 1509.50000 |\n",
       "| 2008 | NONPOINT | 1373.20731 |\n",
       "| 1999 | ON-ROAD  |  346.82000 |\n",
       "| 2002 | ON-ROAD  |  134.30882 |\n",
       "| 2005 | ON-ROAD  |  130.43038 |\n",
       "| 2008 | ON-ROAD  |   88.27546 |\n",
       "| 1999 | POINT    |  296.79500 |\n",
       "| 2002 | POINT    |  569.26000 |\n",
       "| 2005 | POINT    | 1202.49000 |\n",
       "| 2008 | POINT    |  344.97518 |\n",
       "\n"
      ],
      "text/plain": [
       "   year type     x         \n",
       "1  1999 NON-ROAD  522.94000\n",
       "2  2002 NON-ROAD  240.84692\n",
       "3  2005 NON-ROAD  248.93369\n",
       "4  2008 NON-ROAD   55.82356\n",
       "5  1999 NONPOINT 2107.62500\n",
       "6  2002 NONPOINT 1509.50000\n",
       "7  2005 NONPOINT 1509.50000\n",
       "8  2008 NONPOINT 1373.20731\n",
       "9  1999 ON-ROAD   346.82000\n",
       "10 2002 ON-ROAD   134.30882\n",
       "11 2005 ON-ROAD   130.43038\n",
       "12 2008 ON-ROAD    88.27546\n",
       "13 1999 POINT     296.79500\n",
       "14 2002 POINT     569.26000\n",
       "15 2005 POINT    1202.49000\n",
       "16 2008 POINT     344.97518"
      ]
     },
     "metadata": {},
     "output_type": "display_data"
    },
    {
     "data": {
      "text/html": [
       "<strong>png:</strong> 2"
      ],
      "text/latex": [
       "\\textbf{png:} 2"
      ],
      "text/markdown": [
       "**png:** 2"
      ],
      "text/plain": [
       "png \n",
       "  2 "
      ]
     },
     "metadata": {},
     "output_type": "display_data"
    }
   ],
   "source": [
    "Baltimore <- subset(NEI , NEI$fips == \"24510\")\n",
    "aggregated3 <- aggregate(forbaltimore$Emissions, by=list(year=forbaltimore$year , type=forbaltimore$type), FUN=sum)\n",
    "aggregated3\n",
    "\n",
    "library(ggplot2)\n",
    "\n",
    "g <- ggplot(aggregated3, aes(year, x , group= type)) \n",
    "\n",
    "png(filename='plot3.png')\n",
    "\n",
    "g + geom_point(aes(color = type), size = 5, alpha = 1/2) + geom_line( size = 1)+ \n",
    "    ggtitle(expression(\"Total Baltimore \" ~ PM[2.5] ~ \"Emissions by Year for each Type\")) +\n",
    "    ylab(expression(\"Total Baltimore \" ~ PM[2.5] ~ \"Emissions\")) +\n",
    "    xlab(\"Year\")\n",
    "dev.off()"
   ]
  },
  {
   "cell_type": "code",
   "execution_count": 106,
   "metadata": {},
   "outputs": [
    {
     "data": {
      "text/html": [
       "<table>\n",
       "<caption>A data.frame: 8 × 3</caption>\n",
       "<thead>\n",
       "\t<tr><th scope=col>year</th><th scope=col>type</th><th scope=col>x</th></tr>\n",
       "\t<tr><th scope=col>&lt;int&gt;</th><th scope=col>&lt;chr&gt;</th><th scope=col>&lt;dbl&gt;</th></tr>\n",
       "</thead>\n",
       "<tbody>\n",
       "\t<tr><td>1999</td><td>NONPOINT</td><td> 18682.615</td></tr>\n",
       "\t<tr><td>2002</td><td>NONPOINT</td><td> 68364.623</td></tr>\n",
       "\t<tr><td>2005</td><td>NONPOINT</td><td> 68364.623</td></tr>\n",
       "\t<tr><td>2008</td><td>NONPOINT</td><td>  8229.776</td></tr>\n",
       "\t<tr><td>1999</td><td>POINT   </td><td>583941.487</td></tr>\n",
       "\t<tr><td>2002</td><td>POINT   </td><td>496575.374</td></tr>\n",
       "\t<tr><td>2005</td><td>POINT   </td><td>501290.084</td></tr>\n",
       "\t<tr><td>2008</td><td>POINT   </td><td>349854.078</td></tr>\n",
       "</tbody>\n",
       "</table>\n"
      ],
      "text/latex": [
       "A data.frame: 8 × 3\n",
       "\\begin{tabular}{lll}\n",
       " year & type & x\\\\\n",
       " <int> & <chr> & <dbl>\\\\\n",
       "\\hline\n",
       "\t 1999 & NONPOINT &  18682.615\\\\\n",
       "\t 2002 & NONPOINT &  68364.623\\\\\n",
       "\t 2005 & NONPOINT &  68364.623\\\\\n",
       "\t 2008 & NONPOINT &   8229.776\\\\\n",
       "\t 1999 & POINT    & 583941.487\\\\\n",
       "\t 2002 & POINT    & 496575.374\\\\\n",
       "\t 2005 & POINT    & 501290.084\\\\\n",
       "\t 2008 & POINT    & 349854.078\\\\\n",
       "\\end{tabular}\n"
      ],
      "text/markdown": [
       "\n",
       "A data.frame: 8 × 3\n",
       "\n",
       "| year &lt;int&gt; | type &lt;chr&gt; | x &lt;dbl&gt; |\n",
       "|---|---|---|\n",
       "| 1999 | NONPOINT |  18682.615 |\n",
       "| 2002 | NONPOINT |  68364.623 |\n",
       "| 2005 | NONPOINT |  68364.623 |\n",
       "| 2008 | NONPOINT |   8229.776 |\n",
       "| 1999 | POINT    | 583941.487 |\n",
       "| 2002 | POINT    | 496575.374 |\n",
       "| 2005 | POINT    | 501290.084 |\n",
       "| 2008 | POINT    | 349854.078 |\n",
       "\n"
      ],
      "text/plain": [
       "  year type     x         \n",
       "1 1999 NONPOINT  18682.615\n",
       "2 2002 NONPOINT  68364.623\n",
       "3 2005 NONPOINT  68364.623\n",
       "4 2008 NONPOINT   8229.776\n",
       "5 1999 POINT    583941.487\n",
       "6 2002 POINT    496575.374\n",
       "7 2005 POINT    501290.084\n",
       "8 2008 POINT    349854.078"
      ]
     },
     "metadata": {},
     "output_type": "display_data"
    },
    {
     "data": {
      "text/html": [
       "<strong>png:</strong> 2"
      ],
      "text/latex": [
       "\\textbf{png:} 2"
      ],
      "text/markdown": [
       "**png:** 2"
      ],
      "text/plain": [
       "png \n",
       "  2 "
      ]
     },
     "metadata": {},
     "output_type": "display_data"
    }
   ],
   "source": [
    "library(ggplot2)\n",
    "coalrows <- grepl(\"coal\", SCC$Short.Name, ignore.case = T)\n",
    "SCCcoal <- SCC[coalrows,]\n",
    "NEIcoal <- subset(NEI , NEI$SCC %in% SCCcoal$SCC)\n",
    "aggregated4 <- aggregate(NEIcoal$Emissions, by=list(year=NEIcoal$year , type=NEIcoal$type), FUN=sum)\n",
    "aggregated4\n",
    "\n",
    "\n",
    "png(filename='plot4.png')\n",
    "\n",
    "g <- ggplot(aggregated4, aes(year, x , group= type)) \n",
    "g + geom_point(aes(color = type), size = 5, alpha = 1/2) + geom_line( size = 1)+ \n",
    "    ggtitle(expression(\"Total US \" ~ PM[2.5] ~ \"Coal Emission by Year for each Type\")) +\n",
    "    ylab(expression(\"Total US \" ~ PM[2.5] ~ \"Coal Emission\")) +\n",
    "    xlab(\"Year\")\n",
    "\n",
    "dev.off()"
   ]
  },
  {
   "cell_type": "code",
   "execution_count": 107,
   "metadata": {},
   "outputs": [
    {
     "data": {
      "text/html": [
       "<table>\n",
       "<caption>A data.frame: 4 × 2</caption>\n",
       "<thead>\n",
       "\t<tr><th scope=col>year</th><th scope=col>x</th></tr>\n",
       "\t<tr><th scope=col>&lt;int&gt;</th><th scope=col>&lt;dbl&gt;</th></tr>\n",
       "</thead>\n",
       "<tbody>\n",
       "\t<tr><td>1999</td><td>346.82000</td></tr>\n",
       "\t<tr><td>2002</td><td>134.30882</td></tr>\n",
       "\t<tr><td>2005</td><td>130.43038</td></tr>\n",
       "\t<tr><td>2008</td><td> 88.27546</td></tr>\n",
       "</tbody>\n",
       "</table>\n"
      ],
      "text/latex": [
       "A data.frame: 4 × 2\n",
       "\\begin{tabular}{ll}\n",
       " year & x\\\\\n",
       " <int> & <dbl>\\\\\n",
       "\\hline\n",
       "\t 1999 & 346.82000\\\\\n",
       "\t 2002 & 134.30882\\\\\n",
       "\t 2005 & 130.43038\\\\\n",
       "\t 2008 &  88.27546\\\\\n",
       "\\end{tabular}\n"
      ],
      "text/markdown": [
       "\n",
       "A data.frame: 4 × 2\n",
       "\n",
       "| year &lt;int&gt; | x &lt;dbl&gt; |\n",
       "|---|---|\n",
       "| 1999 | 346.82000 |\n",
       "| 2002 | 134.30882 |\n",
       "| 2005 | 130.43038 |\n",
       "| 2008 |  88.27546 |\n",
       "\n"
      ],
      "text/plain": [
       "  year x        \n",
       "1 1999 346.82000\n",
       "2 2002 134.30882\n",
       "3 2005 130.43038\n",
       "4 2008  88.27546"
      ]
     },
     "metadata": {},
     "output_type": "display_data"
    },
    {
     "data": {
      "text/html": [
       "<strong>png:</strong> 2"
      ],
      "text/latex": [
       "\\textbf{png:} 2"
      ],
      "text/markdown": [
       "**png:** 2"
      ],
      "text/plain": [
       "png \n",
       "  2 "
      ]
     },
     "metadata": {},
     "output_type": "display_data"
    }
   ],
   "source": [
    "baltimoreMotor <- subset(NEI, NEI$fips == \"24510\" & NEI$type == \"ON-ROAD\")\n",
    "\n",
    "aggregated5 <- aggregate(baltimoreMotor$Emissions, by=list(year=baltimoreMotor$year), FUN=sum)\n",
    "aggregated5\n",
    "\n",
    "png(filename='plot5.png')\n",
    "g <- ggplot(aggregated5, aes(year, x)) \n",
    "g + geom_point(size = 5, alpha = 1/2) + geom_line( size = 1 , color = 'blue')+ \n",
    "    ggtitle(expression(\"Total Baltimore \" ~ PM[2.5] ~ \"Motor Vehicle Emissions by Year\")) +\n",
    "    ylab(expression(\"Total Baltimore \" ~ PM[2.5] ~ \"Motor Vehicle Emissions\")) +\n",
    "    xlab(\"Year\")\n",
    "dev.off()"
   ]
  },
  {
   "cell_type": "code",
   "execution_count": 108,
   "metadata": {},
   "outputs": [
    {
     "data": {
      "text/html": [
       "<table>\n",
       "<caption>A data.frame: 2097 × 6</caption>\n",
       "<thead>\n",
       "\t<tr><th></th><th scope=col>fips</th><th scope=col>SCC</th><th scope=col>Pollutant</th><th scope=col>Emissions</th><th scope=col>type</th><th scope=col>year</th></tr>\n",
       "\t<tr><th></th><th scope=col>&lt;chr&gt;</th><th scope=col>&lt;chr&gt;</th><th scope=col>&lt;chr&gt;</th><th scope=col>&lt;dbl&gt;</th><th scope=col>&lt;chr&gt;</th><th scope=col>&lt;int&gt;</th></tr>\n",
       "</thead>\n",
       "<tbody>\n",
       "\t<tr><th scope=row>114470</th><td>24510</td><td>220100123B</td><td>PM25-PRI</td><td> 7.38</td><td>ON-ROAD</td><td>1999</td></tr>\n",
       "\t<tr><th scope=row>114472</th><td>24510</td><td>220100123T</td><td>PM25-PRI</td><td> 2.78</td><td>ON-ROAD</td><td>1999</td></tr>\n",
       "\t<tr><th scope=row>114477</th><td>24510</td><td>220100123X</td><td>PM25-PRI</td><td>11.76</td><td>ON-ROAD</td><td>1999</td></tr>\n",
       "\t<tr><th scope=row>114479</th><td>24510</td><td>220100125B</td><td>PM25-PRI</td><td> 3.50</td><td>ON-ROAD</td><td>1999</td></tr>\n",
       "\t<tr><th scope=row>114481</th><td>24510</td><td>220100125T</td><td>PM25-PRI</td><td> 1.32</td><td>ON-ROAD</td><td>1999</td></tr>\n",
       "\t<tr><th scope=row>114486</th><td>24510</td><td>220100125X</td><td>PM25-PRI</td><td> 5.58</td><td>ON-ROAD</td><td>1999</td></tr>\n",
       "\t<tr><th scope=row>114488</th><td>24510</td><td>220100127B</td><td>PM25-PRI</td><td> 4.43</td><td>ON-ROAD</td><td>1999</td></tr>\n",
       "\t<tr><th scope=row>114490</th><td>24510</td><td>220100127T</td><td>PM25-PRI</td><td> 1.67</td><td>ON-ROAD</td><td>1999</td></tr>\n",
       "\t<tr><th scope=row>114495</th><td>24510</td><td>220100127X</td><td>PM25-PRI</td><td> 8.41</td><td>ON-ROAD</td><td>1999</td></tr>\n",
       "\t<tr><th scope=row>114497</th><td>24510</td><td>220100129B</td><td>PM25-PRI</td><td> 3.66</td><td>ON-ROAD</td><td>1999</td></tr>\n",
       "\t<tr><th scope=row>114499</th><td>24510</td><td>220100129T</td><td>PM25-PRI</td><td> 1.38</td><td>ON-ROAD</td><td>1999</td></tr>\n",
       "\t<tr><th scope=row>114504</th><td>24510</td><td>220100129X</td><td>PM25-PRI</td><td> 6.94</td><td>ON-ROAD</td><td>1999</td></tr>\n",
       "\t<tr><th scope=row>114506</th><td>24510</td><td>220100131B</td><td>PM25-PRI</td><td> 1.64</td><td>ON-ROAD</td><td>1999</td></tr>\n",
       "\t<tr><th scope=row>114508</th><td>24510</td><td>220100131T</td><td>PM25-PRI</td><td> 0.62</td><td>ON-ROAD</td><td>1999</td></tr>\n",
       "\t<tr><th scope=row>114513</th><td>24510</td><td>220100131X</td><td>PM25-PRI</td><td> 3.11</td><td>ON-ROAD</td><td>1999</td></tr>\n",
       "\t<tr><th scope=row>114515</th><td>24510</td><td>220100133B</td><td>PM25-PRI</td><td> 1.53</td><td>ON-ROAD</td><td>1999</td></tr>\n",
       "\t<tr><th scope=row>114517</th><td>24510</td><td>220100133T</td><td>PM25-PRI</td><td> 0.58</td><td>ON-ROAD</td><td>1999</td></tr>\n",
       "\t<tr><th scope=row>114522</th><td>24510</td><td>220100133X</td><td>PM25-PRI</td><td> 2.89</td><td>ON-ROAD</td><td>1999</td></tr>\n",
       "\t<tr><th scope=row>114524</th><td>24510</td><td>220102023B</td><td>PM25-PRI</td><td> 2.77</td><td>ON-ROAD</td><td>1999</td></tr>\n",
       "\t<tr><th scope=row>114526</th><td>24510</td><td>220102023T</td><td>PM25-PRI</td><td> 1.05</td><td>ON-ROAD</td><td>1999</td></tr>\n",
       "\t<tr><th scope=row>114531</th><td>24510</td><td>220102023X</td><td>PM25-PRI</td><td> 5.96</td><td>ON-ROAD</td><td>1999</td></tr>\n",
       "\t<tr><th scope=row>114533</th><td>24510</td><td>220102025B</td><td>PM25-PRI</td><td> 1.32</td><td>ON-ROAD</td><td>1999</td></tr>\n",
       "\t<tr><th scope=row>114535</th><td>24510</td><td>220102025T</td><td>PM25-PRI</td><td> 0.50</td><td>ON-ROAD</td><td>1999</td></tr>\n",
       "\t<tr><th scope=row>114540</th><td>24510</td><td>220102025X</td><td>PM25-PRI</td><td> 2.83</td><td>ON-ROAD</td><td>1999</td></tr>\n",
       "\t<tr><th scope=row>114542</th><td>24510</td><td>220102027B</td><td>PM25-PRI</td><td> 1.67</td><td>ON-ROAD</td><td>1999</td></tr>\n",
       "\t<tr><th scope=row>114544</th><td>24510</td><td>220102027T</td><td>PM25-PRI</td><td> 0.63</td><td>ON-ROAD</td><td>1999</td></tr>\n",
       "\t<tr><th scope=row>114549</th><td>24510</td><td>220102027X</td><td>PM25-PRI</td><td> 3.77</td><td>ON-ROAD</td><td>1999</td></tr>\n",
       "\t<tr><th scope=row>114551</th><td>24510</td><td>220102029B</td><td>PM25-PRI</td><td> 1.38</td><td>ON-ROAD</td><td>1999</td></tr>\n",
       "\t<tr><th scope=row>114553</th><td>24510</td><td>220102029T</td><td>PM25-PRI</td><td> 0.52</td><td>ON-ROAD</td><td>1999</td></tr>\n",
       "\t<tr><th scope=row>114558</th><td>24510</td><td>220102029X</td><td>PM25-PRI</td><td> 3.11</td><td>ON-ROAD</td><td>1999</td></tr>\n",
       "\t<tr><th scope=row>...</th><td>...</td><td>...</td><td>...</td><td>...</td><td>...</td><td>...</td></tr>\n",
       "\t<tr><th scope=row>44391981</th><td>06037</td><td>2201040110</td><td>PM25-PRI</td><td> 17.7025</td><td>ON-ROAD</td><td>2008</td></tr>\n",
       "\t<tr><th scope=row>44421881</th><td>06037</td><td>2201020110</td><td>PM25-PRI</td><td> 51.8665</td><td>ON-ROAD</td><td>2008</td></tr>\n",
       "\t<tr><th scope=row>44445441</th><td>06037</td><td>2230075330</td><td>PM25-PRI</td><td>  1.1315</td><td>ON-ROAD</td><td>2008</td></tr>\n",
       "\t<tr><th scope=row>44462631</th><td>06037</td><td>2230001110</td><td>PM25-PRI</td><td>  0.1825</td><td>ON-ROAD</td><td>2008</td></tr>\n",
       "\t<tr><th scope=row>44463961</th><td>06037</td><td>2201070330</td><td>PM25-PRI</td><td>  0.1095</td><td>ON-ROAD</td><td>2008</td></tr>\n",
       "\t<tr><th scope=row>44464141</th><td>06037</td><td>2201040110</td><td>PM25-PRI</td><td>222.4310</td><td>ON-ROAD</td><td>2008</td></tr>\n",
       "\t<tr><th scope=row>44469581</th><td>06037</td><td>2201040110</td><td>PM25-PRI</td><td> 47.5960</td><td>ON-ROAD</td><td>2008</td></tr>\n",
       "\t<tr><th scope=row>44499841</th><td>06037</td><td>2201070330</td><td>PM25-PRI</td><td>  0.0365</td><td>ON-ROAD</td><td>2008</td></tr>\n",
       "\t<tr><th scope=row>44566581</th><td>06037</td><td>2201001110</td><td>PM25-PRI</td><td> 92.9655</td><td>ON-ROAD</td><td>2008</td></tr>\n",
       "\t<tr><th scope=row>44609571</th><td>06037</td><td>2230072110</td><td>PM25-PRI</td><td>  5.8400</td><td>ON-ROAD</td><td>2008</td></tr>\n",
       "\t<tr><th scope=row>44625451</th><td>06037</td><td>2230060110</td><td>PM25-PRI</td><td> 12.4830</td><td>ON-ROAD</td><td>2008</td></tr>\n",
       "\t<tr><th scope=row>44645681</th><td>06037</td><td>2230001110</td><td>PM25-PRI</td><td> 13.3225</td><td>ON-ROAD</td><td>2008</td></tr>\n",
       "\t<tr><th scope=row>44663071</th><td>06037</td><td>2201070230</td><td>PM25-PRI</td><td>  1.1315</td><td>ON-ROAD</td><td>2008</td></tr>\n",
       "\t<tr><th scope=row>44705571</th><td>06037</td><td>2230071110</td><td>PM25-PRI</td><td>  2.5915</td><td>ON-ROAD</td><td>2008</td></tr>\n",
       "\t<tr><th scope=row>44765181</th><td>06037</td><td>2201070230</td><td>PM25-PRI</td><td>  1.3140</td><td>ON-ROAD</td><td>2008</td></tr>\n",
       "\t<tr><th scope=row>44822871</th><td>06037</td><td>2201080110</td><td>PM25-PRI</td><td> 14.3445</td><td>ON-ROAD</td><td>2008</td></tr>\n",
       "\t<tr><th scope=row>44824851</th><td>06037</td><td>2230075330</td><td>PM25-PRI</td><td>  0.4745</td><td>ON-ROAD</td><td>2008</td></tr>\n",
       "\t<tr><th scope=row>44833981</th><td>06037</td><td>2201080110</td><td>PM25-PRI</td><td>  0.4015</td><td>ON-ROAD</td><td>2008</td></tr>\n",
       "\t<tr><th scope=row>44842611</th><td>06037</td><td>2201080110</td><td>PM25-PRI</td><td>  1.0950</td><td>ON-ROAD</td><td>2008</td></tr>\n",
       "\t<tr><th scope=row>44918361</th><td>06037</td><td>2230075230</td><td>PM25-PRI</td><td> 15.4760</td><td>ON-ROAD</td><td>2008</td></tr>\n",
       "\t<tr><th scope=row>44921381</th><td>06037</td><td>2230071110</td><td>PM25-PRI</td><td>  1.4600</td><td>ON-ROAD</td><td>2008</td></tr>\n",
       "\t<tr><th scope=row>44998331</th><td>06037</td><td>2201070330</td><td>PM25-PRI</td><td>  0.0365</td><td>ON-ROAD</td><td>2008</td></tr>\n",
       "\t<tr><th scope=row>45009181</th><td>06037</td><td>2230074110</td><td>PM25-PRI</td><td> 16.9360</td><td>ON-ROAD</td><td>2008</td></tr>\n",
       "\t<tr><th scope=row>45036771</th><td>06037</td><td>2230001110</td><td>PM25-PRI</td><td>  0.5110</td><td>ON-ROAD</td><td>2008</td></tr>\n",
       "\t<tr><th scope=row>45114301</th><td>06037</td><td>2201020110</td><td>PM25-PRI</td><td>139.4660</td><td>ON-ROAD</td><td>2008</td></tr>\n",
       "\t<tr><th scope=row>45168821</th><td>06037</td><td>2201070110</td><td>PM25-PRI</td><td>  6.1685</td><td>ON-ROAD</td><td>2008</td></tr>\n",
       "\t<tr><th scope=row>45208141</th><td>06037</td><td>2230072110</td><td>PM25-PRI</td><td>269.5160</td><td>ON-ROAD</td><td>2008</td></tr>\n",
       "\t<tr><th scope=row>45232211</th><td>06037</td><td>2201070230</td><td>PM25-PRI</td><td>  0.7300</td><td>ON-ROAD</td><td>2008</td></tr>\n",
       "\t<tr><th scope=row>45234671</th><td>06037</td><td>2201070110</td><td>PM25-PRI</td><td> 24.9295</td><td>ON-ROAD</td><td>2008</td></tr>\n",
       "\t<tr><th scope=row>45282491</th><td>06037</td><td>2201070110</td><td>PM25-PRI</td><td> 11.8260</td><td>ON-ROAD</td><td>2008</td></tr>\n",
       "</tbody>\n",
       "</table>\n"
      ],
      "text/latex": [
       "A data.frame: 2097 × 6\n",
       "\\begin{tabular}{r|llllll}\n",
       "  & fips & SCC & Pollutant & Emissions & type & year\\\\\n",
       "  & <chr> & <chr> & <chr> & <dbl> & <chr> & <int>\\\\\n",
       "\\hline\n",
       "\t114470 & 24510 & 220100123B & PM25-PRI &  7.38 & ON-ROAD & 1999\\\\\n",
       "\t114472 & 24510 & 220100123T & PM25-PRI &  2.78 & ON-ROAD & 1999\\\\\n",
       "\t114477 & 24510 & 220100123X & PM25-PRI & 11.76 & ON-ROAD & 1999\\\\\n",
       "\t114479 & 24510 & 220100125B & PM25-PRI &  3.50 & ON-ROAD & 1999\\\\\n",
       "\t114481 & 24510 & 220100125T & PM25-PRI &  1.32 & ON-ROAD & 1999\\\\\n",
       "\t114486 & 24510 & 220100125X & PM25-PRI &  5.58 & ON-ROAD & 1999\\\\\n",
       "\t114488 & 24510 & 220100127B & PM25-PRI &  4.43 & ON-ROAD & 1999\\\\\n",
       "\t114490 & 24510 & 220100127T & PM25-PRI &  1.67 & ON-ROAD & 1999\\\\\n",
       "\t114495 & 24510 & 220100127X & PM25-PRI &  8.41 & ON-ROAD & 1999\\\\\n",
       "\t114497 & 24510 & 220100129B & PM25-PRI &  3.66 & ON-ROAD & 1999\\\\\n",
       "\t114499 & 24510 & 220100129T & PM25-PRI &  1.38 & ON-ROAD & 1999\\\\\n",
       "\t114504 & 24510 & 220100129X & PM25-PRI &  6.94 & ON-ROAD & 1999\\\\\n",
       "\t114506 & 24510 & 220100131B & PM25-PRI &  1.64 & ON-ROAD & 1999\\\\\n",
       "\t114508 & 24510 & 220100131T & PM25-PRI &  0.62 & ON-ROAD & 1999\\\\\n",
       "\t114513 & 24510 & 220100131X & PM25-PRI &  3.11 & ON-ROAD & 1999\\\\\n",
       "\t114515 & 24510 & 220100133B & PM25-PRI &  1.53 & ON-ROAD & 1999\\\\\n",
       "\t114517 & 24510 & 220100133T & PM25-PRI &  0.58 & ON-ROAD & 1999\\\\\n",
       "\t114522 & 24510 & 220100133X & PM25-PRI &  2.89 & ON-ROAD & 1999\\\\\n",
       "\t114524 & 24510 & 220102023B & PM25-PRI &  2.77 & ON-ROAD & 1999\\\\\n",
       "\t114526 & 24510 & 220102023T & PM25-PRI &  1.05 & ON-ROAD & 1999\\\\\n",
       "\t114531 & 24510 & 220102023X & PM25-PRI &  5.96 & ON-ROAD & 1999\\\\\n",
       "\t114533 & 24510 & 220102025B & PM25-PRI &  1.32 & ON-ROAD & 1999\\\\\n",
       "\t114535 & 24510 & 220102025T & PM25-PRI &  0.50 & ON-ROAD & 1999\\\\\n",
       "\t114540 & 24510 & 220102025X & PM25-PRI &  2.83 & ON-ROAD & 1999\\\\\n",
       "\t114542 & 24510 & 220102027B & PM25-PRI &  1.67 & ON-ROAD & 1999\\\\\n",
       "\t114544 & 24510 & 220102027T & PM25-PRI &  0.63 & ON-ROAD & 1999\\\\\n",
       "\t114549 & 24510 & 220102027X & PM25-PRI &  3.77 & ON-ROAD & 1999\\\\\n",
       "\t114551 & 24510 & 220102029B & PM25-PRI &  1.38 & ON-ROAD & 1999\\\\\n",
       "\t114553 & 24510 & 220102029T & PM25-PRI &  0.52 & ON-ROAD & 1999\\\\\n",
       "\t114558 & 24510 & 220102029X & PM25-PRI &  3.11 & ON-ROAD & 1999\\\\\n",
       "\t... & ... & ... & ... & ... & ... & ...\\\\\n",
       "\t44391981 & 06037 & 2201040110 & PM25-PRI &  17.7025 & ON-ROAD & 2008\\\\\n",
       "\t44421881 & 06037 & 2201020110 & PM25-PRI &  51.8665 & ON-ROAD & 2008\\\\\n",
       "\t44445441 & 06037 & 2230075330 & PM25-PRI &   1.1315 & ON-ROAD & 2008\\\\\n",
       "\t44462631 & 06037 & 2230001110 & PM25-PRI &   0.1825 & ON-ROAD & 2008\\\\\n",
       "\t44463961 & 06037 & 2201070330 & PM25-PRI &   0.1095 & ON-ROAD & 2008\\\\\n",
       "\t44464141 & 06037 & 2201040110 & PM25-PRI & 222.4310 & ON-ROAD & 2008\\\\\n",
       "\t44469581 & 06037 & 2201040110 & PM25-PRI &  47.5960 & ON-ROAD & 2008\\\\\n",
       "\t44499841 & 06037 & 2201070330 & PM25-PRI &   0.0365 & ON-ROAD & 2008\\\\\n",
       "\t44566581 & 06037 & 2201001110 & PM25-PRI &  92.9655 & ON-ROAD & 2008\\\\\n",
       "\t44609571 & 06037 & 2230072110 & PM25-PRI &   5.8400 & ON-ROAD & 2008\\\\\n",
       "\t44625451 & 06037 & 2230060110 & PM25-PRI &  12.4830 & ON-ROAD & 2008\\\\\n",
       "\t44645681 & 06037 & 2230001110 & PM25-PRI &  13.3225 & ON-ROAD & 2008\\\\\n",
       "\t44663071 & 06037 & 2201070230 & PM25-PRI &   1.1315 & ON-ROAD & 2008\\\\\n",
       "\t44705571 & 06037 & 2230071110 & PM25-PRI &   2.5915 & ON-ROAD & 2008\\\\\n",
       "\t44765181 & 06037 & 2201070230 & PM25-PRI &   1.3140 & ON-ROAD & 2008\\\\\n",
       "\t44822871 & 06037 & 2201080110 & PM25-PRI &  14.3445 & ON-ROAD & 2008\\\\\n",
       "\t44824851 & 06037 & 2230075330 & PM25-PRI &   0.4745 & ON-ROAD & 2008\\\\\n",
       "\t44833981 & 06037 & 2201080110 & PM25-PRI &   0.4015 & ON-ROAD & 2008\\\\\n",
       "\t44842611 & 06037 & 2201080110 & PM25-PRI &   1.0950 & ON-ROAD & 2008\\\\\n",
       "\t44918361 & 06037 & 2230075230 & PM25-PRI &  15.4760 & ON-ROAD & 2008\\\\\n",
       "\t44921381 & 06037 & 2230071110 & PM25-PRI &   1.4600 & ON-ROAD & 2008\\\\\n",
       "\t44998331 & 06037 & 2201070330 & PM25-PRI &   0.0365 & ON-ROAD & 2008\\\\\n",
       "\t45009181 & 06037 & 2230074110 & PM25-PRI &  16.9360 & ON-ROAD & 2008\\\\\n",
       "\t45036771 & 06037 & 2230001110 & PM25-PRI &   0.5110 & ON-ROAD & 2008\\\\\n",
       "\t45114301 & 06037 & 2201020110 & PM25-PRI & 139.4660 & ON-ROAD & 2008\\\\\n",
       "\t45168821 & 06037 & 2201070110 & PM25-PRI &   6.1685 & ON-ROAD & 2008\\\\\n",
       "\t45208141 & 06037 & 2230072110 & PM25-PRI & 269.5160 & ON-ROAD & 2008\\\\\n",
       "\t45232211 & 06037 & 2201070230 & PM25-PRI &   0.7300 & ON-ROAD & 2008\\\\\n",
       "\t45234671 & 06037 & 2201070110 & PM25-PRI &  24.9295 & ON-ROAD & 2008\\\\\n",
       "\t45282491 & 06037 & 2201070110 & PM25-PRI &  11.8260 & ON-ROAD & 2008\\\\\n",
       "\\end{tabular}\n"
      ],
      "text/markdown": [
       "\n",
       "A data.frame: 2097 × 6\n",
       "\n",
       "| <!--/--> | fips &lt;chr&gt; | SCC &lt;chr&gt; | Pollutant &lt;chr&gt; | Emissions &lt;dbl&gt; | type &lt;chr&gt; | year &lt;int&gt; |\n",
       "|---|---|---|---|---|---|---|\n",
       "| 114470 | 24510 | 220100123B | PM25-PRI |  7.38 | ON-ROAD | 1999 |\n",
       "| 114472 | 24510 | 220100123T | PM25-PRI |  2.78 | ON-ROAD | 1999 |\n",
       "| 114477 | 24510 | 220100123X | PM25-PRI | 11.76 | ON-ROAD | 1999 |\n",
       "| 114479 | 24510 | 220100125B | PM25-PRI |  3.50 | ON-ROAD | 1999 |\n",
       "| 114481 | 24510 | 220100125T | PM25-PRI |  1.32 | ON-ROAD | 1999 |\n",
       "| 114486 | 24510 | 220100125X | PM25-PRI |  5.58 | ON-ROAD | 1999 |\n",
       "| 114488 | 24510 | 220100127B | PM25-PRI |  4.43 | ON-ROAD | 1999 |\n",
       "| 114490 | 24510 | 220100127T | PM25-PRI |  1.67 | ON-ROAD | 1999 |\n",
       "| 114495 | 24510 | 220100127X | PM25-PRI |  8.41 | ON-ROAD | 1999 |\n",
       "| 114497 | 24510 | 220100129B | PM25-PRI |  3.66 | ON-ROAD | 1999 |\n",
       "| 114499 | 24510 | 220100129T | PM25-PRI |  1.38 | ON-ROAD | 1999 |\n",
       "| 114504 | 24510 | 220100129X | PM25-PRI |  6.94 | ON-ROAD | 1999 |\n",
       "| 114506 | 24510 | 220100131B | PM25-PRI |  1.64 | ON-ROAD | 1999 |\n",
       "| 114508 | 24510 | 220100131T | PM25-PRI |  0.62 | ON-ROAD | 1999 |\n",
       "| 114513 | 24510 | 220100131X | PM25-PRI |  3.11 | ON-ROAD | 1999 |\n",
       "| 114515 | 24510 | 220100133B | PM25-PRI |  1.53 | ON-ROAD | 1999 |\n",
       "| 114517 | 24510 | 220100133T | PM25-PRI |  0.58 | ON-ROAD | 1999 |\n",
       "| 114522 | 24510 | 220100133X | PM25-PRI |  2.89 | ON-ROAD | 1999 |\n",
       "| 114524 | 24510 | 220102023B | PM25-PRI |  2.77 | ON-ROAD | 1999 |\n",
       "| 114526 | 24510 | 220102023T | PM25-PRI |  1.05 | ON-ROAD | 1999 |\n",
       "| 114531 | 24510 | 220102023X | PM25-PRI |  5.96 | ON-ROAD | 1999 |\n",
       "| 114533 | 24510 | 220102025B | PM25-PRI |  1.32 | ON-ROAD | 1999 |\n",
       "| 114535 | 24510 | 220102025T | PM25-PRI |  0.50 | ON-ROAD | 1999 |\n",
       "| 114540 | 24510 | 220102025X | PM25-PRI |  2.83 | ON-ROAD | 1999 |\n",
       "| 114542 | 24510 | 220102027B | PM25-PRI |  1.67 | ON-ROAD | 1999 |\n",
       "| 114544 | 24510 | 220102027T | PM25-PRI |  0.63 | ON-ROAD | 1999 |\n",
       "| 114549 | 24510 | 220102027X | PM25-PRI |  3.77 | ON-ROAD | 1999 |\n",
       "| 114551 | 24510 | 220102029B | PM25-PRI |  1.38 | ON-ROAD | 1999 |\n",
       "| 114553 | 24510 | 220102029T | PM25-PRI |  0.52 | ON-ROAD | 1999 |\n",
       "| 114558 | 24510 | 220102029X | PM25-PRI |  3.11 | ON-ROAD | 1999 |\n",
       "| ... | ... | ... | ... | ... | ... | ... |\n",
       "| 44391981 | 06037 | 2201040110 | PM25-PRI |  17.7025 | ON-ROAD | 2008 |\n",
       "| 44421881 | 06037 | 2201020110 | PM25-PRI |  51.8665 | ON-ROAD | 2008 |\n",
       "| 44445441 | 06037 | 2230075330 | PM25-PRI |   1.1315 | ON-ROAD | 2008 |\n",
       "| 44462631 | 06037 | 2230001110 | PM25-PRI |   0.1825 | ON-ROAD | 2008 |\n",
       "| 44463961 | 06037 | 2201070330 | PM25-PRI |   0.1095 | ON-ROAD | 2008 |\n",
       "| 44464141 | 06037 | 2201040110 | PM25-PRI | 222.4310 | ON-ROAD | 2008 |\n",
       "| 44469581 | 06037 | 2201040110 | PM25-PRI |  47.5960 | ON-ROAD | 2008 |\n",
       "| 44499841 | 06037 | 2201070330 | PM25-PRI |   0.0365 | ON-ROAD | 2008 |\n",
       "| 44566581 | 06037 | 2201001110 | PM25-PRI |  92.9655 | ON-ROAD | 2008 |\n",
       "| 44609571 | 06037 | 2230072110 | PM25-PRI |   5.8400 | ON-ROAD | 2008 |\n",
       "| 44625451 | 06037 | 2230060110 | PM25-PRI |  12.4830 | ON-ROAD | 2008 |\n",
       "| 44645681 | 06037 | 2230001110 | PM25-PRI |  13.3225 | ON-ROAD | 2008 |\n",
       "| 44663071 | 06037 | 2201070230 | PM25-PRI |   1.1315 | ON-ROAD | 2008 |\n",
       "| 44705571 | 06037 | 2230071110 | PM25-PRI |   2.5915 | ON-ROAD | 2008 |\n",
       "| 44765181 | 06037 | 2201070230 | PM25-PRI |   1.3140 | ON-ROAD | 2008 |\n",
       "| 44822871 | 06037 | 2201080110 | PM25-PRI |  14.3445 | ON-ROAD | 2008 |\n",
       "| 44824851 | 06037 | 2230075330 | PM25-PRI |   0.4745 | ON-ROAD | 2008 |\n",
       "| 44833981 | 06037 | 2201080110 | PM25-PRI |   0.4015 | ON-ROAD | 2008 |\n",
       "| 44842611 | 06037 | 2201080110 | PM25-PRI |   1.0950 | ON-ROAD | 2008 |\n",
       "| 44918361 | 06037 | 2230075230 | PM25-PRI |  15.4760 | ON-ROAD | 2008 |\n",
       "| 44921381 | 06037 | 2230071110 | PM25-PRI |   1.4600 | ON-ROAD | 2008 |\n",
       "| 44998331 | 06037 | 2201070330 | PM25-PRI |   0.0365 | ON-ROAD | 2008 |\n",
       "| 45009181 | 06037 | 2230074110 | PM25-PRI |  16.9360 | ON-ROAD | 2008 |\n",
       "| 45036771 | 06037 | 2230001110 | PM25-PRI |   0.5110 | ON-ROAD | 2008 |\n",
       "| 45114301 | 06037 | 2201020110 | PM25-PRI | 139.4660 | ON-ROAD | 2008 |\n",
       "| 45168821 | 06037 | 2201070110 | PM25-PRI |   6.1685 | ON-ROAD | 2008 |\n",
       "| 45208141 | 06037 | 2230072110 | PM25-PRI | 269.5160 | ON-ROAD | 2008 |\n",
       "| 45232211 | 06037 | 2201070230 | PM25-PRI |   0.7300 | ON-ROAD | 2008 |\n",
       "| 45234671 | 06037 | 2201070110 | PM25-PRI |  24.9295 | ON-ROAD | 2008 |\n",
       "| 45282491 | 06037 | 2201070110 | PM25-PRI |  11.8260 | ON-ROAD | 2008 |\n",
       "\n"
      ],
      "text/plain": [
       "         fips  SCC        Pollutant Emissions type    year\n",
       "114470   24510 220100123B PM25-PRI   7.38     ON-ROAD 1999\n",
       "114472   24510 220100123T PM25-PRI   2.78     ON-ROAD 1999\n",
       "114477   24510 220100123X PM25-PRI  11.76     ON-ROAD 1999\n",
       "114479   24510 220100125B PM25-PRI   3.50     ON-ROAD 1999\n",
       "114481   24510 220100125T PM25-PRI   1.32     ON-ROAD 1999\n",
       "114486   24510 220100125X PM25-PRI   5.58     ON-ROAD 1999\n",
       "114488   24510 220100127B PM25-PRI   4.43     ON-ROAD 1999\n",
       "114490   24510 220100127T PM25-PRI   1.67     ON-ROAD 1999\n",
       "114495   24510 220100127X PM25-PRI   8.41     ON-ROAD 1999\n",
       "114497   24510 220100129B PM25-PRI   3.66     ON-ROAD 1999\n",
       "114499   24510 220100129T PM25-PRI   1.38     ON-ROAD 1999\n",
       "114504   24510 220100129X PM25-PRI   6.94     ON-ROAD 1999\n",
       "114506   24510 220100131B PM25-PRI   1.64     ON-ROAD 1999\n",
       "114508   24510 220100131T PM25-PRI   0.62     ON-ROAD 1999\n",
       "114513   24510 220100131X PM25-PRI   3.11     ON-ROAD 1999\n",
       "114515   24510 220100133B PM25-PRI   1.53     ON-ROAD 1999\n",
       "114517   24510 220100133T PM25-PRI   0.58     ON-ROAD 1999\n",
       "114522   24510 220100133X PM25-PRI   2.89     ON-ROAD 1999\n",
       "114524   24510 220102023B PM25-PRI   2.77     ON-ROAD 1999\n",
       "114526   24510 220102023T PM25-PRI   1.05     ON-ROAD 1999\n",
       "114531   24510 220102023X PM25-PRI   5.96     ON-ROAD 1999\n",
       "114533   24510 220102025B PM25-PRI   1.32     ON-ROAD 1999\n",
       "114535   24510 220102025T PM25-PRI   0.50     ON-ROAD 1999\n",
       "114540   24510 220102025X PM25-PRI   2.83     ON-ROAD 1999\n",
       "114542   24510 220102027B PM25-PRI   1.67     ON-ROAD 1999\n",
       "114544   24510 220102027T PM25-PRI   0.63     ON-ROAD 1999\n",
       "114549   24510 220102027X PM25-PRI   3.77     ON-ROAD 1999\n",
       "114551   24510 220102029B PM25-PRI   1.38     ON-ROAD 1999\n",
       "114553   24510 220102029T PM25-PRI   0.52     ON-ROAD 1999\n",
       "114558   24510 220102029X PM25-PRI   3.11     ON-ROAD 1999\n",
       "...      ...   ...        ...       ...       ...     ... \n",
       "44391981 06037 2201040110 PM25-PRI   17.7025  ON-ROAD 2008\n",
       "44421881 06037 2201020110 PM25-PRI   51.8665  ON-ROAD 2008\n",
       "44445441 06037 2230075330 PM25-PRI    1.1315  ON-ROAD 2008\n",
       "44462631 06037 2230001110 PM25-PRI    0.1825  ON-ROAD 2008\n",
       "44463961 06037 2201070330 PM25-PRI    0.1095  ON-ROAD 2008\n",
       "44464141 06037 2201040110 PM25-PRI  222.4310  ON-ROAD 2008\n",
       "44469581 06037 2201040110 PM25-PRI   47.5960  ON-ROAD 2008\n",
       "44499841 06037 2201070330 PM25-PRI    0.0365  ON-ROAD 2008\n",
       "44566581 06037 2201001110 PM25-PRI   92.9655  ON-ROAD 2008\n",
       "44609571 06037 2230072110 PM25-PRI    5.8400  ON-ROAD 2008\n",
       "44625451 06037 2230060110 PM25-PRI   12.4830  ON-ROAD 2008\n",
       "44645681 06037 2230001110 PM25-PRI   13.3225  ON-ROAD 2008\n",
       "44663071 06037 2201070230 PM25-PRI    1.1315  ON-ROAD 2008\n",
       "44705571 06037 2230071110 PM25-PRI    2.5915  ON-ROAD 2008\n",
       "44765181 06037 2201070230 PM25-PRI    1.3140  ON-ROAD 2008\n",
       "44822871 06037 2201080110 PM25-PRI   14.3445  ON-ROAD 2008\n",
       "44824851 06037 2230075330 PM25-PRI    0.4745  ON-ROAD 2008\n",
       "44833981 06037 2201080110 PM25-PRI    0.4015  ON-ROAD 2008\n",
       "44842611 06037 2201080110 PM25-PRI    1.0950  ON-ROAD 2008\n",
       "44918361 06037 2230075230 PM25-PRI   15.4760  ON-ROAD 2008\n",
       "44921381 06037 2230071110 PM25-PRI    1.4600  ON-ROAD 2008\n",
       "44998331 06037 2201070330 PM25-PRI    0.0365  ON-ROAD 2008\n",
       "45009181 06037 2230074110 PM25-PRI   16.9360  ON-ROAD 2008\n",
       "45036771 06037 2230001110 PM25-PRI    0.5110  ON-ROAD 2008\n",
       "45114301 06037 2201020110 PM25-PRI  139.4660  ON-ROAD 2008\n",
       "45168821 06037 2201070110 PM25-PRI    6.1685  ON-ROAD 2008\n",
       "45208141 06037 2230072110 PM25-PRI  269.5160  ON-ROAD 2008\n",
       "45232211 06037 2201070230 PM25-PRI    0.7300  ON-ROAD 2008\n",
       "45234671 06037 2201070110 PM25-PRI   24.9295  ON-ROAD 2008\n",
       "45282491 06037 2201070110 PM25-PRI   11.8260  ON-ROAD 2008"
      ]
     },
     "metadata": {},
     "output_type": "display_data"
    },
    {
     "data": {
      "text/html": [
       "<table>\n",
       "<caption>A data.frame: 8 × 3</caption>\n",
       "<thead>\n",
       "\t<tr><th scope=col>year</th><th scope=col>city</th><th scope=col>x</th></tr>\n",
       "\t<tr><th scope=col>&lt;int&gt;</th><th scope=col>&lt;chr&gt;</th><th scope=col>&lt;dbl&gt;</th></tr>\n",
       "</thead>\n",
       "<tbody>\n",
       "\t<tr><td>1999</td><td>06037</td><td>3931.12000</td></tr>\n",
       "\t<tr><td>2002</td><td>06037</td><td>4273.71020</td></tr>\n",
       "\t<tr><td>2005</td><td>06037</td><td>4601.41493</td></tr>\n",
       "\t<tr><td>2008</td><td>06037</td><td>4101.32100</td></tr>\n",
       "\t<tr><td>1999</td><td>24510</td><td> 346.82000</td></tr>\n",
       "\t<tr><td>2002</td><td>24510</td><td> 134.30882</td></tr>\n",
       "\t<tr><td>2005</td><td>24510</td><td> 130.43038</td></tr>\n",
       "\t<tr><td>2008</td><td>24510</td><td>  88.27546</td></tr>\n",
       "</tbody>\n",
       "</table>\n"
      ],
      "text/latex": [
       "A data.frame: 8 × 3\n",
       "\\begin{tabular}{lll}\n",
       " year & city & x\\\\\n",
       " <int> & <chr> & <dbl>\\\\\n",
       "\\hline\n",
       "\t 1999 & 06037 & 3931.12000\\\\\n",
       "\t 2002 & 06037 & 4273.71020\\\\\n",
       "\t 2005 & 06037 & 4601.41493\\\\\n",
       "\t 2008 & 06037 & 4101.32100\\\\\n",
       "\t 1999 & 24510 &  346.82000\\\\\n",
       "\t 2002 & 24510 &  134.30882\\\\\n",
       "\t 2005 & 24510 &  130.43038\\\\\n",
       "\t 2008 & 24510 &   88.27546\\\\\n",
       "\\end{tabular}\n"
      ],
      "text/markdown": [
       "\n",
       "A data.frame: 8 × 3\n",
       "\n",
       "| year &lt;int&gt; | city &lt;chr&gt; | x &lt;dbl&gt; |\n",
       "|---|---|---|\n",
       "| 1999 | 06037 | 3931.12000 |\n",
       "| 2002 | 06037 | 4273.71020 |\n",
       "| 2005 | 06037 | 4601.41493 |\n",
       "| 2008 | 06037 | 4101.32100 |\n",
       "| 1999 | 24510 |  346.82000 |\n",
       "| 2002 | 24510 |  134.30882 |\n",
       "| 2005 | 24510 |  130.43038 |\n",
       "| 2008 | 24510 |   88.27546 |\n",
       "\n"
      ],
      "text/plain": [
       "  year city  x         \n",
       "1 1999 06037 3931.12000\n",
       "2 2002 06037 4273.71020\n",
       "3 2005 06037 4601.41493\n",
       "4 2008 06037 4101.32100\n",
       "5 1999 24510  346.82000\n",
       "6 2002 24510  134.30882\n",
       "7 2005 24510  130.43038\n",
       "8 2008 24510   88.27546"
      ]
     },
     "metadata": {},
     "output_type": "display_data"
    },
    {
     "data": {
      "text/html": [
       "<strong>png:</strong> 2"
      ],
      "text/latex": [
       "\\textbf{png:} 2"
      ],
      "text/markdown": [
       "**png:** 2"
      ],
      "text/plain": [
       "png \n",
       "  2 "
      ]
     },
     "metadata": {},
     "output_type": "display_data"
    }
   ],
   "source": [
    "library(ggplot2)\n",
    "twociteis <- subset(NEI, NEI$fips %in% c(\"24510\",\"06037\") & NEI$type == \"ON-ROAD\")\n",
    "twociteis\n",
    "\n",
    "aggregated6 <- aggregate(twociteis$Emissions, by=list(year=twociteis$year ,city=twociteis$fips), FUN=sum)\n",
    "aggregated6\n",
    "\n",
    "png(filename='plot6.png')\n",
    "g <- ggplot(aggregated6, aes(year, x , group= city)) \n",
    "g + geom_point(aes(color = city), size = 5, alpha = 1/2) + geom_line( size = 1, color = 'green')+ \n",
    "    ggtitle(expression(\"Baltimore and Los Angeles\" ~ PM[2.5] ~ \"Motor Vehicle Emissions by Year\")) +\n",
    "    ylab(expression(\"Total\"~PM[2.5]~ \"Motor Vehicle Emissions\")) +\n",
    "    xlab(\"Year\")\n",
    "dev.off()"
   ]
  },
  {
   "cell_type": "code",
   "execution_count": null,
   "metadata": {},
   "outputs": [],
   "source": []
  }
 ],
 "metadata": {
  "kernelspec": {
   "display_name": "R",
   "language": "R",
   "name": "ir"
  },
  "language_info": {
   "codemirror_mode": "r",
   "file_extension": ".r",
   "mimetype": "text/x-r-source",
   "name": "R",
   "pygments_lexer": "r",
   "version": "3.6.3"
  }
 },
 "nbformat": 4,
 "nbformat_minor": 4
}
